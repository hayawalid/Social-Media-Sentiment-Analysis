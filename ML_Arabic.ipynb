{
  "nbformat": 4,
  "nbformat_minor": 0,
  "metadata": {
    "colab": {
      "provenance": [],
      "collapsed_sections": [
        "fcA3aUy5gXSz"
      ],
      "authorship_tag": "ABX9TyPTSU23caQzzB3HpFzZ/b+K",
      "include_colab_link": true
    },
    "kernelspec": {
      "name": "python3",
      "display_name": "Python 3"
    },
    "language_info": {
      "name": "python"
    }
  },
  "cells": [
    {
      "cell_type": "markdown",
      "metadata": {
        "id": "view-in-github",
        "colab_type": "text"
      },
      "source": [
        "<a href=\"https://colab.research.google.com/github/janaghoniem/Social-Media-Sentiment-Analysis/blob/main/ML_Arabic.ipynb\" target=\"_parent\"><img src=\"https://colab.research.google.com/assets/colab-badge.svg\" alt=\"Open In Colab\"/></a>"
      ]
    },
    {
      "cell_type": "code",
      "execution_count": 1,
      "metadata": {
        "id": "gQ80u7VsaXde"
      },
      "outputs": [],
      "source": [
        "from sklearn.model_selection import train_test_split\n",
        "from sklearn.feature_extraction.text import TfidfVectorizer\n",
        "from sklearn.metrics import accuracy_score\n",
        "from sklearn.linear_model import LogisticRegression\n",
        "from sklearn.naive_bayes import MultinomialNB\n",
        "from sklearn.svm import LinearSVC\n",
        "from sklearn.ensemble import RandomForestClassifier\n",
        "from scipy.sparse import vstack\n",
        "from sklearn.model_selection import GridSearchCV\n",
        "from sklearn.metrics import accuracy_score\n",
        "import warnings\n",
        "from sklearn.exceptions import ConvergenceWarning\n",
        "warnings.filterwarnings(\"ignore\", category=ConvergenceWarning)\n",
        "import pandas as pd\n",
        "import numpy as np\n",
        "import ast\n",
        "import re\n",
        "import pickle\n",
        "from sklearn.preprocessing import LabelEncoder\n",
        "import tensorflow as tf\n",
        "from sklearn.ensemble import RandomForestClassifier\n",
        "from sklearn.model_selection import train_test_split\n",
        "from sklearn.metrics import accuracy_score\n",
        "from google.colab import drive"
      ]
    },
    {
      "cell_type": "markdown",
      "source": [
        "### Arabic Testing"
      ],
      "metadata": {
        "id": "fcA3aUy5gXSz"
      }
    },
    {
      "cell_type": "code",
      "source": [
        "drive.mount('/content/drive')\n",
        "df = pd.read_csv('/content/drive/MyDrive/Colab Notebooks/Data Science/Arabic Sentiment/Datasets/arabic_sentiment_reviews.csv')\n",
        "with open(\"/content/drive/MyDrive/Colab Notebooks/Data Science/Arabic Sentiment/Features/training_data.pkl\", 'rb') as f:\n",
        "    training_data = pickle.load(f)"
      ],
      "metadata": {
        "colab": {
          "base_uri": "https://localhost:8080/"
        },
        "id": "pAIgQCb-fqfE",
        "outputId": "09946e12-3a33-4936-e890-b5ebc58341d7",
        "collapsed": true
      },
      "execution_count": 2,
      "outputs": [
        {
          "output_type": "stream",
          "name": "stdout",
          "text": [
            "Mounted at /content/drive\n"
          ]
        }
      ]
    },
    {
      "cell_type": "markdown",
      "source": [
        "### 1) Random forest"
      ],
      "metadata": {
        "id": "fyLD107ug7KS"
      }
    },
    {
      "cell_type": "code",
      "source": [
        "import numpy as np\n",
        "import pandas as pd\n",
        "from sklearn.ensemble import RandomForestClassifier\n",
        "from sklearn.model_selection import train_test_split, GridSearchCV\n",
        "from sklearn.metrics import accuracy_score, precision_score, recall_score, f1_score, roc_auc_score, classification_report\n",
        "from sklearn.preprocessing import LabelEncoder, label_binarize\n",
        "import tensorflow as tf\n",
        "\n",
        "# Load features and labels\n",
        "X = training_data['X_fasttext']\n",
        "label_encoder = LabelEncoder()\n",
        "y = label_encoder.fit_transform(df['label'])\n",
        "y_cat = tf.keras.utils.to_categorical(y)\n",
        "\n",
        "# Split data into train, validation, test\n",
        "X_temp, X_test, y_temp, y_test = train_test_split(X, y_cat, test_size=0.2, stratify=y_cat, random_state=42)\n",
        "X_train, X_val, y_train, y_val = train_test_split(X_temp, y_temp, test_size=0.1, stratify=y_temp, random_state=42)\n",
        "\n",
        "# Prepare labels for sklearn (not one-hot)\n",
        "y_train_sklearn = np.argmax(y_train, axis=1)\n",
        "y_val_sklearn = np.argmax(y_val, axis=1)\n",
        "y_test_sklearn = np.argmax(y_test, axis=1)\n",
        "\n",
        "# Train initial Random Forest\n",
        "rf_model = RandomForestClassifier(n_estimators=100, max_depth=20, random_state=42)\n",
        "rf_model.fit(X_train, y_train_sklearn)\n",
        "\n",
        "# Evaluate initial model\n",
        "print(\"Initial Random Forest Training Accuracy:\", accuracy_score(y_train_sklearn, rf_model.predict(X_train)))\n",
        "print(\"Initial Random Forest Validation Accuracy:\", accuracy_score(y_val_sklearn, rf_model.predict(X_val)))\n",
        "print(\"Initial Random Forest Testing Accuracy:\", accuracy_score(y_test_sklearn, rf_model.predict(X_test)))\n",
        "\n",
        "print(\"--------------------------------------------------\")\n",
        "\n",
        "# Combine train and validation for tuning\n",
        "X_train_val = np.vstack([X_train, X_val])\n",
        "y_train_val = np.concatenate([y_train_sklearn, y_val_sklearn])\n",
        "\n",
        "# Hyperparameter tuning with GridSearchCV\n",
        "rf_params = {\n",
        "    'n_estimators': [100, 200],\n",
        "    'max_depth': [20, 30, None],\n",
        "    'min_samples_split': [2, 5],\n",
        "    'min_samples_leaf': [1, 2]\n",
        "}\n",
        "\n",
        "rf_grid = GridSearchCV(RandomForestClassifier(random_state=42),\n",
        "                       rf_params,\n",
        "                       cv=3,\n",
        "                       n_jobs=-1,\n",
        "                       verbose=1)\n",
        "rf_grid.fit(X_train_val, y_train_val)\n",
        "\n",
        "# Best model after tuning\n",
        "best_rf = rf_grid.best_estimator_\n",
        "\n",
        "# Evaluate best model\n",
        "print(\"Best Parameters:\", rf_grid.best_params_)\n",
        "print(\"Best Random Forest Training Accuracy:\", accuracy_score(y_train_sklearn, best_rf.predict(X_train)))\n",
        "print(\"Best Random Forest Validation Accuracy:\", accuracy_score(y_val_sklearn, best_rf.predict(X_val)))\n",
        "print(\"Best Random Forest Testing Accuracy:\", accuracy_score(y_test_sklearn, best_rf.predict(X_test)))\n",
        "\n",
        "print(\"--------------------------------------------------\")\n",
        "\n",
        "# Evaluate best model with additional metrics on the test set\n",
        "y_test_pred = best_rf.predict(X_test)\n",
        "y_test_proba = best_rf.predict_proba(X_test)\n",
        "\n",
        "# Accuracy\n",
        "print(\"Test Accuracy:\", accuracy_score(y_test_sklearn, y_test_pred))\n",
        "\n",
        "# Precision, Recall, F1-score (macro because it's multiclass)\n",
        "print(\"Test Precision (Macro):\", precision_score(y_test_sklearn, y_test_pred, average='macro'))\n",
        "print(\"Test Recall (Macro):\", recall_score(y_test_sklearn, y_test_pred, average='macro'))\n",
        "print(\"Test F1-Score (Macro):\", f1_score(y_test_sklearn, y_test_pred, average='macro'))\n",
        "\n",
        "# Classification report\n",
        "print(\"\\nClassification Report:\\n\", classification_report(y_test_sklearn, y_test_pred, target_names=label_encoder.classes_))\n",
        "\n",
        "# AUC-ROC (requires one-hot encoded y_test)\n",
        "y_test_bin = label_binarize(y_test_sklearn, classes=np.arange(len(label_encoder.classes_)))\n",
        "\n",
        "# Handle multiclass AUC\n",
        "try:\n",
        "    auc_roc = roc_auc_score(y_test_bin, y_test_proba, multi_class='ovr', average='macro')\n",
        "    print(\"Test AUC-ROC (Macro OVR):\", auc_roc)\n",
        "except ValueError as e:\n",
        "    print(\"AUC-ROC Error:\", e)\n"
      ],
      "metadata": {
        "colab": {
          "base_uri": "https://localhost:8080/",
          "height": 373
        },
        "id": "R4LDdqpLfrh9",
        "outputId": "df79120a-a990-42f9-a2fc-48ae518ac279"
      },
      "execution_count": 3,
      "outputs": [
        {
          "output_type": "error",
          "ename": "KeyboardInterrupt",
          "evalue": "",
          "traceback": [
            "\u001b[0;31m---------------------------------------------------------------------------\u001b[0m",
            "\u001b[0;31mKeyboardInterrupt\u001b[0m                         Traceback (most recent call last)",
            "\u001b[0;32m<ipython-input-3-f13e1b9ca3c3>\u001b[0m in \u001b[0;36m<cell line: 0>\u001b[0;34m()\u001b[0m\n\u001b[1;32m     24\u001b[0m \u001b[0;31m# Train initial Random Forest\u001b[0m\u001b[0;34m\u001b[0m\u001b[0;34m\u001b[0m\u001b[0m\n\u001b[1;32m     25\u001b[0m \u001b[0mrf_model\u001b[0m \u001b[0;34m=\u001b[0m \u001b[0mRandomForestClassifier\u001b[0m\u001b[0;34m(\u001b[0m\u001b[0mn_estimators\u001b[0m\u001b[0;34m=\u001b[0m\u001b[0;36m100\u001b[0m\u001b[0;34m,\u001b[0m \u001b[0mmax_depth\u001b[0m\u001b[0;34m=\u001b[0m\u001b[0;36m20\u001b[0m\u001b[0;34m,\u001b[0m \u001b[0mrandom_state\u001b[0m\u001b[0;34m=\u001b[0m\u001b[0;36m42\u001b[0m\u001b[0;34m)\u001b[0m\u001b[0;34m\u001b[0m\u001b[0;34m\u001b[0m\u001b[0m\n\u001b[0;32m---> 26\u001b[0;31m \u001b[0mrf_model\u001b[0m\u001b[0;34m.\u001b[0m\u001b[0mfit\u001b[0m\u001b[0;34m(\u001b[0m\u001b[0mX_train\u001b[0m\u001b[0;34m,\u001b[0m \u001b[0my_train_sklearn\u001b[0m\u001b[0;34m)\u001b[0m\u001b[0;34m\u001b[0m\u001b[0;34m\u001b[0m\u001b[0m\n\u001b[0m\u001b[1;32m     27\u001b[0m \u001b[0;34m\u001b[0m\u001b[0m\n\u001b[1;32m     28\u001b[0m \u001b[0;31m# Evaluate initial model\u001b[0m\u001b[0;34m\u001b[0m\u001b[0;34m\u001b[0m\u001b[0m\n",
            "\u001b[0;32m/usr/local/lib/python3.11/dist-packages/sklearn/base.py\u001b[0m in \u001b[0;36mwrapper\u001b[0;34m(estimator, *args, **kwargs)\u001b[0m\n\u001b[1;32m   1387\u001b[0m                 )\n\u001b[1;32m   1388\u001b[0m             ):\n\u001b[0;32m-> 1389\u001b[0;31m                 \u001b[0;32mreturn\u001b[0m \u001b[0mfit_method\u001b[0m\u001b[0;34m(\u001b[0m\u001b[0mestimator\u001b[0m\u001b[0;34m,\u001b[0m \u001b[0;34m*\u001b[0m\u001b[0margs\u001b[0m\u001b[0;34m,\u001b[0m \u001b[0;34m**\u001b[0m\u001b[0mkwargs\u001b[0m\u001b[0;34m)\u001b[0m\u001b[0;34m\u001b[0m\u001b[0;34m\u001b[0m\u001b[0m\n\u001b[0m\u001b[1;32m   1390\u001b[0m \u001b[0;34m\u001b[0m\u001b[0m\n\u001b[1;32m   1391\u001b[0m         \u001b[0;32mreturn\u001b[0m \u001b[0mwrapper\u001b[0m\u001b[0;34m\u001b[0m\u001b[0;34m\u001b[0m\u001b[0m\n",
            "\u001b[0;32m/usr/local/lib/python3.11/dist-packages/sklearn/ensemble/_forest.py\u001b[0m in \u001b[0;36mfit\u001b[0;34m(self, X, y, sample_weight)\u001b[0m\n\u001b[1;32m    485\u001b[0m             \u001b[0;31m# parallel_backend contexts set at a higher level,\u001b[0m\u001b[0;34m\u001b[0m\u001b[0;34m\u001b[0m\u001b[0m\n\u001b[1;32m    486\u001b[0m             \u001b[0;31m# since correctness does not rely on using threads.\u001b[0m\u001b[0;34m\u001b[0m\u001b[0;34m\u001b[0m\u001b[0m\n\u001b[0;32m--> 487\u001b[0;31m             trees = Parallel(\n\u001b[0m\u001b[1;32m    488\u001b[0m                 \u001b[0mn_jobs\u001b[0m\u001b[0;34m=\u001b[0m\u001b[0mself\u001b[0m\u001b[0;34m.\u001b[0m\u001b[0mn_jobs\u001b[0m\u001b[0;34m,\u001b[0m\u001b[0;34m\u001b[0m\u001b[0;34m\u001b[0m\u001b[0m\n\u001b[1;32m    489\u001b[0m                 \u001b[0mverbose\u001b[0m\u001b[0;34m=\u001b[0m\u001b[0mself\u001b[0m\u001b[0;34m.\u001b[0m\u001b[0mverbose\u001b[0m\u001b[0;34m,\u001b[0m\u001b[0;34m\u001b[0m\u001b[0;34m\u001b[0m\u001b[0m\n",
            "\u001b[0;32m/usr/local/lib/python3.11/dist-packages/sklearn/utils/parallel.py\u001b[0m in \u001b[0;36m__call__\u001b[0;34m(self, iterable)\u001b[0m\n\u001b[1;32m     75\u001b[0m             \u001b[0;32mfor\u001b[0m \u001b[0mdelayed_func\u001b[0m\u001b[0;34m,\u001b[0m \u001b[0margs\u001b[0m\u001b[0;34m,\u001b[0m \u001b[0mkwargs\u001b[0m \u001b[0;32min\u001b[0m \u001b[0miterable\u001b[0m\u001b[0;34m\u001b[0m\u001b[0;34m\u001b[0m\u001b[0m\n\u001b[1;32m     76\u001b[0m         )\n\u001b[0;32m---> 77\u001b[0;31m         \u001b[0;32mreturn\u001b[0m \u001b[0msuper\u001b[0m\u001b[0;34m(\u001b[0m\u001b[0;34m)\u001b[0m\u001b[0;34m.\u001b[0m\u001b[0m__call__\u001b[0m\u001b[0;34m(\u001b[0m\u001b[0miterable_with_config\u001b[0m\u001b[0;34m)\u001b[0m\u001b[0;34m\u001b[0m\u001b[0;34m\u001b[0m\u001b[0m\n\u001b[0m\u001b[1;32m     78\u001b[0m \u001b[0;34m\u001b[0m\u001b[0m\n\u001b[1;32m     79\u001b[0m \u001b[0;34m\u001b[0m\u001b[0m\n",
            "\u001b[0;32m/usr/local/lib/python3.11/dist-packages/joblib/parallel.py\u001b[0m in \u001b[0;36m__call__\u001b[0;34m(self, iterable)\u001b[0m\n\u001b[1;32m   1983\u001b[0m             \u001b[0moutput\u001b[0m \u001b[0;34m=\u001b[0m \u001b[0mself\u001b[0m\u001b[0;34m.\u001b[0m\u001b[0m_get_sequential_output\u001b[0m\u001b[0;34m(\u001b[0m\u001b[0miterable\u001b[0m\u001b[0;34m)\u001b[0m\u001b[0;34m\u001b[0m\u001b[0;34m\u001b[0m\u001b[0m\n\u001b[1;32m   1984\u001b[0m             \u001b[0mnext\u001b[0m\u001b[0;34m(\u001b[0m\u001b[0moutput\u001b[0m\u001b[0;34m)\u001b[0m\u001b[0;34m\u001b[0m\u001b[0;34m\u001b[0m\u001b[0m\n\u001b[0;32m-> 1985\u001b[0;31m             \u001b[0;32mreturn\u001b[0m \u001b[0moutput\u001b[0m \u001b[0;32mif\u001b[0m \u001b[0mself\u001b[0m\u001b[0;34m.\u001b[0m\u001b[0mreturn_generator\u001b[0m \u001b[0;32melse\u001b[0m \u001b[0mlist\u001b[0m\u001b[0;34m(\u001b[0m\u001b[0moutput\u001b[0m\u001b[0;34m)\u001b[0m\u001b[0;34m\u001b[0m\u001b[0;34m\u001b[0m\u001b[0m\n\u001b[0m\u001b[1;32m   1986\u001b[0m \u001b[0;34m\u001b[0m\u001b[0m\n\u001b[1;32m   1987\u001b[0m         \u001b[0;31m# Let's create an ID that uniquely identifies the current call. If the\u001b[0m\u001b[0;34m\u001b[0m\u001b[0;34m\u001b[0m\u001b[0m\n",
            "\u001b[0;32m/usr/local/lib/python3.11/dist-packages/joblib/parallel.py\u001b[0m in \u001b[0;36m_get_sequential_output\u001b[0;34m(self, iterable)\u001b[0m\n\u001b[1;32m   1911\u001b[0m                 \u001b[0mself\u001b[0m\u001b[0;34m.\u001b[0m\u001b[0mn_dispatched_batches\u001b[0m \u001b[0;34m+=\u001b[0m \u001b[0;36m1\u001b[0m\u001b[0;34m\u001b[0m\u001b[0;34m\u001b[0m\u001b[0m\n\u001b[1;32m   1912\u001b[0m                 \u001b[0mself\u001b[0m\u001b[0;34m.\u001b[0m\u001b[0mn_dispatched_tasks\u001b[0m \u001b[0;34m+=\u001b[0m \u001b[0;36m1\u001b[0m\u001b[0;34m\u001b[0m\u001b[0;34m\u001b[0m\u001b[0m\n\u001b[0;32m-> 1913\u001b[0;31m                 \u001b[0mres\u001b[0m \u001b[0;34m=\u001b[0m \u001b[0mfunc\u001b[0m\u001b[0;34m(\u001b[0m\u001b[0;34m*\u001b[0m\u001b[0margs\u001b[0m\u001b[0;34m,\u001b[0m \u001b[0;34m**\u001b[0m\u001b[0mkwargs\u001b[0m\u001b[0;34m)\u001b[0m\u001b[0;34m\u001b[0m\u001b[0;34m\u001b[0m\u001b[0m\n\u001b[0m\u001b[1;32m   1914\u001b[0m                 \u001b[0mself\u001b[0m\u001b[0;34m.\u001b[0m\u001b[0mn_completed_tasks\u001b[0m \u001b[0;34m+=\u001b[0m \u001b[0;36m1\u001b[0m\u001b[0;34m\u001b[0m\u001b[0;34m\u001b[0m\u001b[0m\n\u001b[1;32m   1915\u001b[0m                 \u001b[0mself\u001b[0m\u001b[0;34m.\u001b[0m\u001b[0mprint_progress\u001b[0m\u001b[0;34m(\u001b[0m\u001b[0;34m)\u001b[0m\u001b[0;34m\u001b[0m\u001b[0;34m\u001b[0m\u001b[0m\n",
            "\u001b[0;32m/usr/local/lib/python3.11/dist-packages/sklearn/utils/parallel.py\u001b[0m in \u001b[0;36m__call__\u001b[0;34m(self, *args, **kwargs)\u001b[0m\n\u001b[1;32m    137\u001b[0m             \u001b[0mconfig\u001b[0m \u001b[0;34m=\u001b[0m \u001b[0;34m{\u001b[0m\u001b[0;34m}\u001b[0m\u001b[0;34m\u001b[0m\u001b[0;34m\u001b[0m\u001b[0m\n\u001b[1;32m    138\u001b[0m         \u001b[0;32mwith\u001b[0m \u001b[0mconfig_context\u001b[0m\u001b[0;34m(\u001b[0m\u001b[0;34m**\u001b[0m\u001b[0mconfig\u001b[0m\u001b[0;34m)\u001b[0m\u001b[0;34m:\u001b[0m\u001b[0;34m\u001b[0m\u001b[0;34m\u001b[0m\u001b[0m\n\u001b[0;32m--> 139\u001b[0;31m             \u001b[0;32mreturn\u001b[0m \u001b[0mself\u001b[0m\u001b[0;34m.\u001b[0m\u001b[0mfunction\u001b[0m\u001b[0;34m(\u001b[0m\u001b[0;34m*\u001b[0m\u001b[0margs\u001b[0m\u001b[0;34m,\u001b[0m \u001b[0;34m**\u001b[0m\u001b[0mkwargs\u001b[0m\u001b[0;34m)\u001b[0m\u001b[0;34m\u001b[0m\u001b[0;34m\u001b[0m\u001b[0m\n\u001b[0m\u001b[1;32m    140\u001b[0m \u001b[0;34m\u001b[0m\u001b[0m\n\u001b[1;32m    141\u001b[0m \u001b[0;34m\u001b[0m\u001b[0m\n",
            "\u001b[0;32m/usr/local/lib/python3.11/dist-packages/sklearn/ensemble/_forest.py\u001b[0m in \u001b[0;36m_parallel_build_trees\u001b[0;34m(tree, bootstrap, X, y, sample_weight, tree_idx, n_trees, verbose, class_weight, n_samples_bootstrap, missing_values_in_feature_mask)\u001b[0m\n\u001b[1;32m    187\u001b[0m             \u001b[0mcurr_sample_weight\u001b[0m \u001b[0;34m*=\u001b[0m \u001b[0mcompute_sample_weight\u001b[0m\u001b[0;34m(\u001b[0m\u001b[0;34m\"balanced\"\u001b[0m\u001b[0;34m,\u001b[0m \u001b[0my\u001b[0m\u001b[0;34m,\u001b[0m \u001b[0mindices\u001b[0m\u001b[0;34m=\u001b[0m\u001b[0mindices\u001b[0m\u001b[0;34m)\u001b[0m\u001b[0;34m\u001b[0m\u001b[0;34m\u001b[0m\u001b[0m\n\u001b[1;32m    188\u001b[0m \u001b[0;34m\u001b[0m\u001b[0m\n\u001b[0;32m--> 189\u001b[0;31m         tree._fit(\n\u001b[0m\u001b[1;32m    190\u001b[0m             \u001b[0mX\u001b[0m\u001b[0;34m,\u001b[0m\u001b[0;34m\u001b[0m\u001b[0;34m\u001b[0m\u001b[0m\n\u001b[1;32m    191\u001b[0m             \u001b[0my\u001b[0m\u001b[0;34m,\u001b[0m\u001b[0;34m\u001b[0m\u001b[0;34m\u001b[0m\u001b[0m\n",
            "\u001b[0;32m/usr/local/lib/python3.11/dist-packages/sklearn/tree/_classes.py\u001b[0m in \u001b[0;36m_fit\u001b[0;34m(self, X, y, sample_weight, check_input, missing_values_in_feature_mask)\u001b[0m\n\u001b[1;32m    470\u001b[0m             )\n\u001b[1;32m    471\u001b[0m \u001b[0;34m\u001b[0m\u001b[0m\n\u001b[0;32m--> 472\u001b[0;31m         \u001b[0mbuilder\u001b[0m\u001b[0;34m.\u001b[0m\u001b[0mbuild\u001b[0m\u001b[0;34m(\u001b[0m\u001b[0mself\u001b[0m\u001b[0;34m.\u001b[0m\u001b[0mtree_\u001b[0m\u001b[0;34m,\u001b[0m \u001b[0mX\u001b[0m\u001b[0;34m,\u001b[0m \u001b[0my\u001b[0m\u001b[0;34m,\u001b[0m \u001b[0msample_weight\u001b[0m\u001b[0;34m,\u001b[0m \u001b[0mmissing_values_in_feature_mask\u001b[0m\u001b[0;34m)\u001b[0m\u001b[0;34m\u001b[0m\u001b[0;34m\u001b[0m\u001b[0m\n\u001b[0m\u001b[1;32m    473\u001b[0m \u001b[0;34m\u001b[0m\u001b[0m\n\u001b[1;32m    474\u001b[0m         \u001b[0;32mif\u001b[0m \u001b[0mself\u001b[0m\u001b[0;34m.\u001b[0m\u001b[0mn_outputs_\u001b[0m \u001b[0;34m==\u001b[0m \u001b[0;36m1\u001b[0m \u001b[0;32mand\u001b[0m \u001b[0mis_classifier\u001b[0m\u001b[0;34m(\u001b[0m\u001b[0mself\u001b[0m\u001b[0;34m)\u001b[0m\u001b[0;34m:\u001b[0m\u001b[0;34m\u001b[0m\u001b[0;34m\u001b[0m\u001b[0m\n",
            "\u001b[0;31mKeyboardInterrupt\u001b[0m: "
          ]
        }
      ]
    },
    {
      "cell_type": "markdown",
      "source": [
        "### 2) SVM"
      ],
      "metadata": {
        "id": "AOXvTmD6hSN-"
      }
    },
    {
      "cell_type": "code",
      "source": [
        "import pandas as pd\n",
        "import numpy as np\n",
        "from sklearn.model_selection import train_test_split, GridSearchCV\n",
        "from sklearn.svm import LinearSVC\n",
        "from sklearn.metrics import accuracy_score\n",
        "from sklearn.preprocessing import LabelEncoder\n",
        "import tensorflow as tf\n",
        "\n",
        "# Load features and labels\n",
        "X = training_data['X_fasttext']  # Use your dense FastText embeddings\n",
        "label_encoder = LabelEncoder()\n",
        "y = label_encoder.fit_transform(df['label'])\n",
        "y_cat = tf.keras.utils.to_categorical(y)\n",
        "\n",
        "# Split into train, validation, test (stratifying on labels)\n",
        "X_temp, X_test, y_temp, y_test = train_test_split(X, y, test_size=0.2, stratify=y, random_state=42)\n",
        "X_train, X_val, y_train, y_val = train_test_split(X_temp, y_temp, test_size=0.1, stratify=y_temp, random_state=42)\n",
        "\n",
        "# ----------------- Baseline SVM -----------------\n",
        "print(\"\\nTraining Baseline SVM...\")\n",
        "svm_baseline = LinearSVC(max_iter=10000, random_state=42, dual=False)\n",
        "svm_baseline.fit(X_train, y_train)\n",
        "\n",
        "# Predictions\n",
        "train_preds = svm_baseline.predict(X_train)\n",
        "val_preds = svm_baseline.predict(X_val)\n",
        "test_preds = svm_baseline.predict(X_test)\n",
        "\n",
        "print(\"\\nBaseline SVM Results:\")\n",
        "print(\"Training Accuracy:\", accuracy_score(y_train, train_preds))\n",
        "print(\"Validation Accuracy:\", accuracy_score(y_val, val_preds))\n",
        "print(\"Testing Accuracy:\", accuracy_score(y_test, test_preds))\n",
        "\n",
        "# ----------------- SVM Hyperparameter Tuning -----------------\n",
        "print(\"\\nStarting SVM hyperparameter tuning...\")\n",
        "svm_params = {\n",
        "    'C': [0.1, 1, 10, 100],\n",
        "    'penalty': ['l2'],\n",
        "    'loss': ['squared_hinge'],\n",
        "    'dual': [False]\n",
        "}\n",
        "\n",
        "svm_grid = GridSearchCV(\n",
        "    LinearSVC(random_state=42, max_iter=10000),\n",
        "    svm_params,\n",
        "    cv=3,\n",
        "    n_jobs=-1,\n",
        "    verbose=1\n",
        ")\n",
        "\n",
        "# Fit ONLY on X_train (avoid stacking with val)\n",
        "svm_grid.fit(X_train, y_train)\n",
        "best_svm = svm_grid.best_estimator_\n",
        "\n",
        "# Predictions after tuning\n",
        "svm_train_preds = best_svm.predict(X_train)\n",
        "svm_val_preds = best_svm.predict(X_val)\n",
        "svm_test_preds = best_svm.predict(X_test)\n",
        "\n",
        "print(\"\\nTuned SVM Results:\")\n",
        "print(\"Best Parameters:\", svm_grid.best_params_)\n",
        "print(\"Training Accuracy:\", accuracy_score(y_train, svm_train_preds))\n",
        "print(\"Validation Accuracy:\", accuracy_score(y_val, svm_val_preds))\n",
        "print(\"Testing Accuracy:\", accuracy_score(y_test, svm_test_preds))\n"
      ],
      "metadata": {
        "id": "OtyTu2sihTOk",
        "outputId": "8bcb7009-13eb-4288-d0d6-73d95a16175a",
        "colab": {
          "base_uri": "https://localhost:8080/"
        }
      },
      "execution_count": null,
      "outputs": [
        {
          "output_type": "stream",
          "name": "stdout",
          "text": [
            "\n",
            "Training Baseline SVM...\n",
            "\n",
            "Baseline SVM Results:\n",
            "Training Accuracy: 0.798956228956229\n",
            "Validation Accuracy: 0.7990909090909091\n",
            "Testing Accuracy: 0.7961818181818182\n",
            "\n",
            "Starting SVM hyperparameter tuning...\n",
            "Fitting 3 folds for each of 4 candidates, totalling 12 fits\n",
            "\n",
            "Tuned SVM Results:\n",
            "Best Parameters: {'C': 10, 'dual': False, 'loss': 'squared_hinge', 'penalty': 'l2'}\n",
            "Training Accuracy: 0.7989814814814815\n",
            "Validation Accuracy: 0.7992803030303031\n",
            "Testing Accuracy: 0.7964545454545454\n"
          ]
        }
      ]
    },
    {
      "cell_type": "code",
      "source": [
        "from sklearn.metrics import classification_report, roc_auc_score\n",
        "\n",
        "# ---- Classification Report ----\n",
        "print(\"\\nClassification Report (Test Data):\")\n",
        "print(classification_report(y_test, test_preds, target_names=[str(cls) for cls in label_encoder.classes_]))\n",
        "\n",
        "# ---- AUC-ROC (using decision_function) ----\n",
        "try:\n",
        "    test_decision_scores = svm_baseline.decision_function(X_test)\n",
        "    auc = roc_auc_score(y_test, test_decision_scores, multi_class='ovr', average='macro')\n",
        "    print(\"AUC-ROC (macro average OvR):\", auc)\n",
        "except Exception as e:\n",
        "    print(\"AUC-ROC could not be calculated:\", e)\n",
        "\n",
        "from sklearn.metrics import classification_report, roc_auc_score\n",
        "\n",
        "# ---- Classification Report (Tuned SVM) ----\n",
        "print(\"\\nClassification Report (Tuned SVM - Test Data):\")\n",
        "print(classification_report(y_test, svm_test_preds, target_names=[str(cls) for cls in label_encoder.classes_]))\n",
        "\n",
        "# ---- AUC-ROC (using decision_function for Tuned SVM) ----\n",
        "try:\n",
        "    test_decision_scores_tuned = best_svm.decision_function(X_test)\n",
        "    auc_tuned = roc_auc_score(y_test, test_decision_scores_tuned, multi_class='ovr', average='macro')\n",
        "    print(\"AUC-ROC (macro average OvR) Tuned SVM:\", auc_tuned)\n",
        "except Exception as e:\n",
        "    print(\"AUC-ROC (Tuned SVM) could not be calculated:\", e)\n",
        "\n"
      ],
      "metadata": {
        "id": "ycNjJm9K8i3A",
        "outputId": "0feb7f3a-a11c-4b0b-b285-b197c247ea1f",
        "colab": {
          "base_uri": "https://localhost:8080/"
        }
      },
      "execution_count": null,
      "outputs": [
        {
          "output_type": "stream",
          "name": "stdout",
          "text": [
            "\n",
            "Classification Report (Test Data):\n",
            "              precision    recall  f1-score   support\n",
            "\n",
            "           0       0.61      0.77      0.68     32629\n",
            "           1       0.70      0.52      0.60     33371\n",
            "\n",
            "    accuracy                           0.64     66000\n",
            "   macro avg       0.65      0.64      0.64     66000\n",
            "weighted avg       0.65      0.64      0.64     66000\n",
            "\n",
            "AUC-ROC (macro average OvR): 0.8760152659478608\n",
            "\n",
            "Classification Report (Tuned SVM - Test Data):\n",
            "              precision    recall  f1-score   support\n",
            "\n",
            "           0       0.79      0.81      0.80     32629\n",
            "           1       0.81      0.79      0.80     33371\n",
            "\n",
            "    accuracy                           0.80     66000\n",
            "   macro avg       0.80      0.80      0.80     66000\n",
            "weighted avg       0.80      0.80      0.80     66000\n",
            "\n",
            "AUC-ROC (macro average OvR) Tuned SVM: 0.8760306967319824\n"
          ]
        }
      ]
    },
    {
      "cell_type": "markdown",
      "source": [
        "### 3) Logistic regression"
      ],
      "metadata": {
        "id": "s32o3qjihjgq"
      }
    },
    {
      "cell_type": "code",
      "source": [
        "import pandas as pd\n",
        "import numpy as np\n",
        "from sklearn.model_selection import train_test_split, GridSearchCV\n",
        "from sklearn.linear_model import LogisticRegression\n",
        "from sklearn.metrics import accuracy_score\n",
        "from sklearn.preprocessing import LabelEncoder\n",
        "import tensorflow as tf\n",
        "\n",
        "# Load features and labels\n",
        "X = training_data['X_fasttext']  # Use your dense FastText embeddings\n",
        "label_encoder = LabelEncoder()\n",
        "y = label_encoder.fit_transform(df['label'])\n",
        "y_cat = tf.keras.utils.to_categorical(y)\n",
        "\n",
        "# Split into train, validation, test (stratifying on labels)\n",
        "X_temp, X_test, y_temp, y_test = train_test_split(X, y, test_size=0.2, stratify=y, random_state=42)\n",
        "X_train, X_val, y_train, y_val = train_test_split(X_temp, y_temp, test_size=0.1, stratify=y_temp, random_state=42)\n",
        "\n",
        "# ----------------- Baseline Logistic Regression -----------------\n",
        "print(\"\\nTraining Baseline Logistic Regression...\")\n",
        "logreg_baseline = LogisticRegression(max_iter=10000, random_state=42, solver='lbfgs', multi_class='multinomial')\n",
        "logreg_baseline.fit(X_train, y_train)\n",
        "\n",
        "# Predictions\n",
        "train_preds = logreg_baseline.predict(X_train)\n",
        "val_preds = logreg_baseline.predict(X_val)\n",
        "test_preds = logreg_baseline.predict(X_test)\n",
        "\n",
        "print(\"\\nBaseline Logistic Regression Results:\")\n",
        "print(\"Training Accuracy:\", accuracy_score(y_train, train_preds))\n",
        "print(\"Validation Accuracy:\", accuracy_score(y_val, val_preds))\n",
        "print(\"Testing Accuracy:\", accuracy_score(y_test, test_preds))\n",
        "\n",
        "# ----------------- Logistic Regression Hyperparameter Tuning -----------------\n",
        "print(\"\\nStarting Logistic Regression hyperparameter tuning...\")\n",
        "logreg_params = {\n",
        "    'C': [0.01, 0.1, 1, 10, 100],\n",
        "    'penalty': ['l2'],\n",
        "    'solver': ['lbfgs'],  # Good for multiclass\n",
        "    'multi_class': ['multinomial']\n",
        "}\n",
        "\n",
        "logreg_grid = GridSearchCV(\n",
        "    LogisticRegression(max_iter=10000, random_state=42),\n",
        "    logreg_params,\n",
        "    cv=3,\n",
        "    n_jobs=-1,\n",
        "    verbose=1\n",
        ")\n",
        "\n",
        "# Fit ONLY on X_train\n",
        "logreg_grid.fit(X_train, y_train)\n",
        "best_logreg = logreg_grid.best_estimator_\n",
        "\n",
        "# Predictions after tuning\n",
        "logreg_train_preds = best_logreg.predict(X_train)\n",
        "logreg_val_preds = best_logreg.predict(X_val)\n",
        "logreg_test_preds = best_logreg.predict(X_test)\n",
        "\n",
        "print(\"\\nTuned Logistic Regression Results:\")\n",
        "print(\"Best Parameters:\", logreg_grid.best_params_)\n",
        "print(\"Training Accuracy:\", accuracy_score(y_train, logreg_train_preds))\n",
        "print(\"Validation Accuracy:\", accuracy_score(y_val, logreg_val_preds))\n",
        "print(\"Testing Accuracy:\", accuracy_score(y_test, logreg_test_preds))\n"
      ],
      "metadata": {
        "id": "uzOt86EJhiu2",
        "outputId": "add09d79-8ff7-4807-a3b5-a3af98512715",
        "colab": {
          "base_uri": "https://localhost:8080/"
        }
      },
      "execution_count": null,
      "outputs": [
        {
          "output_type": "stream",
          "name": "stdout",
          "text": [
            "\n",
            "Training Baseline Logistic Regression...\n"
          ]
        },
        {
          "output_type": "stream",
          "name": "stderr",
          "text": [
            "/usr/local/lib/python3.11/dist-packages/sklearn/linear_model/_logistic.py:1237: FutureWarning: 'multi_class' was deprecated in version 1.5 and will be removed in 1.7. From then on, binary problems will be fit as proper binary  logistic regression models (as if multi_class='ovr' were set). Leave it to its default value to avoid this warning.\n",
            "  warnings.warn(\n"
          ]
        },
        {
          "output_type": "stream",
          "name": "stdout",
          "text": [
            "\n",
            "Baseline Logistic Regression Results:\n",
            "Training Accuracy: 0.796986531986532\n",
            "Validation Accuracy: 0.7985227272727272\n",
            "Testing Accuracy: 0.7941666666666667\n",
            "\n",
            "Starting Logistic Regression hyperparameter tuning...\n",
            "Fitting 3 folds for each of 5 candidates, totalling 15 fits\n"
          ]
        },
        {
          "output_type": "stream",
          "name": "stderr",
          "text": [
            "/usr/local/lib/python3.11/dist-packages/sklearn/linear_model/_logistic.py:1237: FutureWarning: 'multi_class' was deprecated in version 1.5 and will be removed in 1.7. From then on, binary problems will be fit as proper binary  logistic regression models (as if multi_class='ovr' were set). Leave it to its default value to avoid this warning.\n",
            "  warnings.warn(\n"
          ]
        },
        {
          "output_type": "stream",
          "name": "stdout",
          "text": [
            "\n",
            "Tuned Logistic Regression Results:\n",
            "Best Parameters: {'C': 100, 'multi_class': 'multinomial', 'penalty': 'l2', 'solver': 'lbfgs'}\n",
            "Training Accuracy: 0.7981060606060606\n",
            "Validation Accuracy: 0.798939393939394\n",
            "Testing Accuracy: 0.7962575757575757\n"
          ]
        }
      ]
    },
    {
      "cell_type": "code",
      "source": [
        "from sklearn.metrics import classification_report, roc_auc_score\n",
        "\n",
        "# ---- Classification Report (Baseline Logistic Regression) ----\n",
        "print(\"\\nClassification Report (Baseline Logistic Regression - Test Data):\")\n",
        "print(classification_report(y_test, test_preds, target_names=[str(cls) for cls in label_encoder.classes_]))\n",
        "\n",
        "# ---- AUC-ROC (using decision_function for Baseline Logistic Regression) ----\n",
        "try:\n",
        "    test_decision_scores_baseline = logreg_baseline.decision_function(X_test)\n",
        "    auc_baseline = roc_auc_score(y_test, test_decision_scores_baseline, multi_class='ovr', average='macro')\n",
        "    print(\"AUC-ROC (macro average OvR) Baseline Logistic Regression:\", auc_baseline)\n",
        "except Exception as e:\n",
        "    print(\"AUC-ROC (Baseline Logistic Regression) could not be calculated:\", e)\n",
        "\n",
        "\n",
        "# ---- Classification Report (Tuned Logistic Regression) ----\n",
        "print(\"\\nClassification Report (Tuned Logistic Regression - Test Data):\")\n",
        "print(classification_report(y_test, logreg_test_preds, target_names=[str(cls) for cls in label_encoder.classes_]))\n",
        "\n",
        "# ---- AUC-ROC (using decision_function for Tuned Logistic Regression) ----\n",
        "try:\n",
        "    test_decision_scores_tuned = best_logreg.decision_function(X_test)\n",
        "    auc_tuned = roc_auc_score(y_test, test_decision_scores_tuned, multi_class='ovr', average='macro')\n",
        "    print(\"AUC-ROC (macro average OvR) Tuned Logistic Regression:\", auc_tuned)\n",
        "except Exception as e:\n",
        "    print(\"AUC-ROC (Tuned Logistic Regression) could not be calculated:\", e)\n"
      ],
      "metadata": {
        "id": "cmAH8uKm9Lrk",
        "outputId": "5cb4896e-2211-4295-c53d-cbfa37a0e511",
        "colab": {
          "base_uri": "https://localhost:8080/"
        }
      },
      "execution_count": null,
      "outputs": [
        {
          "output_type": "stream",
          "name": "stdout",
          "text": [
            "\n",
            "Classification Report (Baseline Logistic Regression - Test Data):\n",
            "              precision    recall  f1-score   support\n",
            "\n",
            "           0       0.61      0.77      0.68     32629\n",
            "           1       0.70      0.52      0.60     33371\n",
            "\n",
            "    accuracy                           0.64     66000\n",
            "   macro avg       0.65      0.64      0.64     66000\n",
            "weighted avg       0.65      0.64      0.64     66000\n",
            "\n",
            "AUC-ROC (macro average OvR) Baseline Logistic Regression: 0.8741980417747179\n",
            "\n",
            "Classification Report (Tuned Logistic Regression - Test Data):\n",
            "              precision    recall  f1-score   support\n",
            "\n",
            "           0       0.79      0.80      0.80     32629\n",
            "           1       0.81      0.79      0.80     33371\n",
            "\n",
            "    accuracy                           0.80     66000\n",
            "   macro avg       0.80      0.80      0.80     66000\n",
            "weighted avg       0.80      0.80      0.80     66000\n",
            "\n",
            "AUC-ROC (macro average OvR) Tuned Logistic Regression: 0.875517256263241\n"
          ]
        }
      ]
    },
    {
      "cell_type": "markdown",
      "source": [
        "### 4) Naive Bayes"
      ],
      "metadata": {
        "id": "30rzbGl7hv4t"
      }
    },
    {
      "cell_type": "code",
      "source": [
        "import pandas as pd\n",
        "import numpy as np\n",
        "from sklearn.model_selection import train_test_split, GridSearchCV\n",
        "from sklearn.naive_bayes import GaussianNB\n",
        "from sklearn.metrics import accuracy_score\n",
        "from sklearn.preprocessing import LabelEncoder\n",
        "import tensorflow as tf\n",
        "\n",
        "# Load features and labels\n",
        "X = training_data['X_fasttext']\n",
        "label_encoder = LabelEncoder()\n",
        "y = label_encoder.fit_transform(df['label'])\n",
        "\n",
        "# Split into train, validation, test (stratifying on labels)\n",
        "X_temp, X_test, y_temp, y_test = train_test_split(X, y, test_size=0.2, stratify=y, random_state=42)\n",
        "X_train, X_val, y_train, y_val = train_test_split(X_temp, y_temp, test_size=0.1, stratify=y_temp, random_state=42)\n",
        "\n",
        "# ----------------- Baseline Gaussian Naive Bayes -----------------\n",
        "print(\"\\nTraining Baseline Gaussian Naive Bayes...\")\n",
        "nb_baseline = GaussianNB()\n",
        "nb_baseline.fit(X_train, y_train)\n",
        "\n",
        "# Predictions\n",
        "train_preds = nb_baseline.predict(X_train)\n",
        "val_preds = nb_baseline.predict(X_val)\n",
        "test_preds = nb_baseline.predict(X_test)\n",
        "\n",
        "print(\"\\nBaseline Gaussian Naive Bayes Results:\")\n",
        "print(\"Training Accuracy:\", accuracy_score(y_train, train_preds))\n",
        "print(\"Validation Accuracy:\", accuracy_score(y_val, val_preds))\n",
        "print(\"Testing Accuracy:\", accuracy_score(y_test, test_preds))\n",
        "\n",
        "# ----------------- Naive Bayes Hyperparameter Tuning -----------------\n",
        "# For GaussianNB, the main hyperparameter is var_smoothing (default: 1e-9)\n",
        "print(\"\\nStarting Gaussian Naive Bayes hyperparameter tuning...\")\n",
        "nb_params = {\n",
        "    'var_smoothing': [1e-9, 1e-8, 1e-7, 1e-6, 1e-5]\n",
        "}\n",
        "\n",
        "nb_grid = GridSearchCV(\n",
        "    GaussianNB(),\n",
        "    nb_params,\n",
        "    cv=3,\n",
        "    n_jobs=-1,\n",
        "    verbose=1\n",
        ")\n",
        "\n",
        "# Fit ONLY on X_train\n",
        "nb_grid.fit(X_train, y_train)\n",
        "best_nb = nb_grid.best_estimator_\n",
        "\n",
        "# Predictions after tuning\n",
        "nb_train_preds = best_nb.predict(X_train)\n",
        "nb_val_preds = best_nb.predict(X_val)\n",
        "nb_test_preds = best_nb.predict(X_test)\n",
        "\n",
        "print(\"\\nTuned Gaussian Naive Bayes Results:\")\n",
        "print(\"Best Parameters:\", nb_grid.best_params_)\n",
        "print(\"Training Accuracy:\", accuracy_score(y_train, nb_train_preds))\n",
        "print(\"Validation Accuracy:\", accuracy_score(y_val, nb_val_preds))\n",
        "print(\"Testing Accuracy:\", accuracy_score(y_test, nb_test_preds))\n"
      ],
      "metadata": {
        "id": "5UKsCXImhxHf",
        "outputId": "c77aff8e-ddb8-47b6-cc48-90e722a872a5",
        "colab": {
          "base_uri": "https://localhost:8080/"
        }
      },
      "execution_count": null,
      "outputs": [
        {
          "output_type": "stream",
          "name": "stdout",
          "text": [
            "\n",
            "Training Baseline Gaussian Naive Bayes...\n",
            "\n",
            "Baseline Gaussian Naive Bayes Results:\n",
            "Training Accuracy: 0.6434175084175084\n",
            "Validation Accuracy: 0.6449621212121213\n",
            "Testing Accuracy: 0.6429090909090909\n",
            "\n",
            "Starting Gaussian Naive Bayes hyperparameter tuning...\n",
            "Fitting 3 folds for each of 5 candidates, totalling 15 fits\n",
            "\n",
            "Tuned Gaussian Naive Bayes Results:\n",
            "Best Parameters: {'var_smoothing': 1e-05}\n",
            "Training Accuracy: 0.6433964646464646\n",
            "Validation Accuracy: 0.645\n",
            "Testing Accuracy: 0.6428939393939394\n"
          ]
        }
      ]
    },
    {
      "cell_type": "code",
      "source": [
        "from sklearn.metrics import classification_report, roc_auc_score\n",
        "\n",
        "# ---- Classification Report (Baseline Naive Bayes) ----\n",
        "print(\"\\nClassification Report (Baseline Gaussian Naive Bayes - Test Data):\")\n",
        "print(classification_report(y_test, test_preds, target_names=[str(cls) for cls in label_encoder.classes_]))\n",
        "\n",
        "# ---- AUC-ROC (Baseline Naive Bayes) ----\n",
        "try:\n",
        "    test_prob_scores_baseline = nb_baseline.predict_proba(X_test)\n",
        "    auc_baseline = roc_auc_score(y_test, test_prob_scores_baseline, multi_class='ovr', average='macro')\n",
        "    print(\"AUC-ROC (macro average OvR) Baseline Naive Bayes:\", auc_baseline)\n",
        "except Exception as e:\n",
        "    print(\"AUC-ROC (Baseline Naive Bayes) could not be calculated:\", e)\n",
        "\n",
        "# ---- Classification Report (Tuned Naive Bayes) ----\n",
        "print(\"\\nClassification Report (Tuned Gaussian Naive Bayes - Test Data):\")\n",
        "print(classification_report(y_test, nb_test_preds, target_names=[str(cls) for cls in label_encoder.classes_]))\n",
        "\n",
        "# ---- AUC-ROC (Tuned Naive Bayes) ----\n",
        "try:\n",
        "    test_prob_scores_tuned = best_nb.predict_proba(X_test)\n",
        "    auc_tuned = roc_auc_score(y_test, test_prob_scores_tuned, multi_class='ovr', average='macro')\n",
        "    print(\"AUC-ROC (macro average OvR) Tuned Naive Bayes:\", auc_tuned)\n",
        "except Exception as e:\n",
        "    print(\"AUC-ROC (Tuned Naive Bayes) could not be calculated:\", e)\n",
        "\n"
      ],
      "metadata": {
        "id": "7SuzoEzF9ad4",
        "outputId": "85d1b31c-eae9-4f15-f347-9ce7a6ddb8b7",
        "colab": {
          "base_uri": "https://localhost:8080/"
        }
      },
      "execution_count": null,
      "outputs": [
        {
          "output_type": "stream",
          "name": "stdout",
          "text": [
            "\n",
            "Classification Report (Baseline Gaussian Naive Bayes - Test Data):\n",
            "              precision    recall  f1-score   support\n",
            "\n",
            "           0       0.61      0.77      0.68     32629\n",
            "           1       0.70      0.52      0.60     33371\n",
            "\n",
            "    accuracy                           0.64     66000\n",
            "   macro avg       0.65      0.64      0.64     66000\n",
            "weighted avg       0.65      0.64      0.64     66000\n",
            "\n",
            "AUC-ROC (Baseline Naive Bayes) could not be calculated: y should be a 1d array, got an array of shape (66000, 2) instead.\n",
            "\n",
            "Classification Report (Tuned Gaussian Naive Bayes - Test Data):\n",
            "              precision    recall  f1-score   support\n",
            "\n",
            "           0       0.61      0.77      0.68     32629\n",
            "           1       0.70      0.52      0.60     33371\n",
            "\n",
            "    accuracy                           0.64     66000\n",
            "   macro avg       0.65      0.64      0.64     66000\n",
            "weighted avg       0.65      0.64      0.64     66000\n",
            "\n",
            "AUC-ROC (Tuned Naive Bayes) could not be calculated: y should be a 1d array, got an array of shape (66000, 2) instead.\n"
          ]
        }
      ]
    },
    {
      "cell_type": "markdown",
      "source": [
        "### 5) MLP"
      ],
      "metadata": {
        "id": "D3uPQyvz0e35"
      }
    },
    {
      "cell_type": "code",
      "source": [
        "import pandas as pd\n",
        "import numpy as np\n",
        "from sklearn.model_selection import train_test_split, GridSearchCV\n",
        "from sklearn.metrics import accuracy_score\n",
        "from sklearn.preprocessing import LabelEncoder\n",
        "import tensorflow as tf\n",
        "from tensorflow.keras.wrappers.scikit_learn import KerasClassifier\n",
        "\n",
        "# -------------------- Load Features and Labels --------------------\n",
        "X = training_data['X_fasttext']  # FastText embeddings as dense vectors\n",
        "label_encoder = LabelEncoder()\n",
        "y = label_encoder.fit_transform(df['label'])\n",
        "\n",
        "# One-hot encoded labels (for Keras models)\n",
        "y_cat = tf.keras.utils.to_categorical(y)\n",
        "\n",
        "# -------------------- Train/Validation/Test Split --------------------\n",
        "X_temp, X_test, y_temp, y_test = train_test_split(X, y, test_size=0.2, stratify=y, random_state=42)\n",
        "X_train, X_val, y_train, y_val = train_test_split(X_temp, y_temp, test_size=0.1, stratify=y_temp, random_state=42)\n",
        "\n",
        "# -------------------- Define MLP Model --------------------\n",
        "def create_mlp(hidden_units=128, dropout_rate=0.5, learning_rate=0.001):\n",
        "    model = tf.keras.Sequential([\n",
        "        tf.keras.layers.Input(shape=(X.shape[1],)),\n",
        "        tf.keras.layers.Dense(hidden_units, activation='relu'),\n",
        "        tf.keras.layers.Dropout(dropout_rate),\n",
        "        tf.keras.layers.Dense(len(np.unique(y)), activation='softmax')\n",
        "    ])\n",
        "    model.compile(optimizer=tf.keras.optimizers.Adam(learning_rate=learning_rate),\n",
        "                  loss='sparse_categorical_crossentropy',\n",
        "                  metrics=['accuracy'])\n",
        "    return model\n",
        "\n",
        "# -------------------- Baseline MLP Training --------------------\n",
        "print(\"\\nTraining Baseline MLP...\")\n",
        "baseline_mlp = create_mlp()\n",
        "baseline_mlp.fit(X_train, y_train, epochs=10, batch_size=32, verbose=0, validation_data=(X_val, y_val))\n",
        "\n",
        "# Predictions\n",
        "train_preds = np.argmax(baseline_mlp.predict(X_train), axis=1)\n",
        "val_preds = np.argmax(baseline_mlp.predict(X_val), axis=1)\n",
        "test_preds = np.argmax(baseline_mlp.predict(X_test), axis=1)\n",
        "\n",
        "print(\"\\nBaseline MLP Results:\")\n",
        "print(\"Training Accuracy:\", accuracy_score(y_train, train_preds))\n",
        "print(\"Validation Accuracy:\", accuracy_score(y_val, val_preds))\n",
        "print(\"Testing Accuracy:\", accuracy_score(y_test, test_preds))\n",
        "\n",
        "# -------------------- MLP Hyperparameter Tuning --------------------\n",
        "print(\"\\nStarting MLP hyperparameter tuning...\")\n",
        "\n",
        "keras_model = KerasClassifier(build_fn=create_mlp, verbose=0)\n",
        "\n",
        "mlp_params = {\n",
        "    'hidden_units': [64, 128],\n",
        "    'dropout_rate': [0.3, 0.5],\n",
        "    'learning_rate': [0.001, 0.0005],\n",
        "    'batch_size': [32],\n",
        "    'epochs': [15]\n",
        "}\n",
        "\n",
        "mlp_grid = GridSearchCV(estimator=keras_model,\n",
        "                        param_grid=mlp_params,\n",
        "                        cv=3,\n",
        "                        n_jobs=-1,\n",
        "                        verbose=1)\n",
        "\n",
        "mlp_grid.fit(X_train, y_train)\n",
        "best_mlp = mlp_grid.best_estimator_\n",
        "\n",
        "# Predictions after tuning\n",
        "mlp_train_preds = np.argmax(best_mlp.model.predict(X_train), axis=1)\n",
        "mlp_val_preds = np.argmax(best_mlp.model.predict(X_val), axis=1)\n",
        "mlp_test_preds = np.argmax(best_mlp.model.predict(X_test), axis=1)\n",
        "\n",
        "print(\"\\nTuned MLP Results:\")\n",
        "print(\"Best Parameters:\", mlp_grid.best_params_)\n",
        "print(\"Training Accuracy:\", accuracy_score(y_train, mlp_train_preds))\n",
        "print(\"Validation Accuracy:\", accuracy_score(y_val, mlp_val_preds))\n",
        "print(\"Testing Accuracy:\", accuracy_score(y_test, mlp_test_preds))\n"
      ],
      "metadata": {
        "id": "_pkbHaBg0fX6"
      },
      "execution_count": null,
      "outputs": []
    },
    {
      "cell_type": "code",
      "source": [
        "from sklearn.metrics import classification_report, roc_auc_score\n",
        "\n",
        "# -------------------- Baseline MLP Classification Report and AUC-ROC --------------------\n",
        "print(\"\\nClassification Report (Baseline MLP - Test Data):\")\n",
        "print(classification_report(y_test, test_preds, target_names=[str(cls) for cls in label_encoder.classes_]))\n",
        "\n",
        "# AUC-ROC for Baseline MLP\n",
        "try:\n",
        "    test_probs_baseline = baseline_mlp.predict(X_test)  # shape: (n_samples, n_classes)\n",
        "    auc_baseline = roc_auc_score(tf.keras.utils.to_categorical(y_test), test_probs_baseline, multi_class='ovr', average='macro')\n",
        "    print(\"AUC-ROC (macro average OvR) Baseline MLP:\", auc_baseline)\n",
        "except Exception as e:\n",
        "    print(\"AUC-ROC (Baseline MLP) could not be calculated:\", e)\n",
        "\n",
        "# -------------------- Tuned MLP Classification Report and AUC-ROC --------------------\n",
        "print(\"\\nClassification Report (Tuned MLP - Test Data):\")\n",
        "print(classification_report(y_test, mlp_test_preds, target_names=[str(cls) for cls in label_encoder.classes_]))\n",
        "\n",
        "# AUC-ROC for Tuned MLP\n",
        "try:\n",
        "    test_probs_tuned = best_mlp.model.predict(X_test)  # shape: (n_samples, n_classes)\n",
        "    auc_tuned = roc_auc_score(tf.keras.utils.to_categorical(y_test), test_probs_tuned, multi_class='ovr', average='macro')\n",
        "    print(\"AUC-ROC (macro average OvR) Tuned MLP:\", auc_tuned)\n",
        "except Exception as e:\n",
        "    print(\"AUC-ROC (Tuned MLP) could not be calculated:\", e)\n"
      ],
      "metadata": {
        "id": "_SK17pq91OGT"
      },
      "execution_count": null,
      "outputs": []
    },
    {
      "cell_type": "markdown",
      "source": [
        "### 6) XGBoost"
      ],
      "metadata": {
        "id": "O8u-bBne0f5a"
      }
    },
    {
      "cell_type": "code",
      "source": [
        "import pandas as pd\n",
        "import numpy as np\n",
        "from sklearn.model_selection import train_test_split, GridSearchCV\n",
        "from sklearn.metrics import accuracy_score\n",
        "from sklearn.preprocessing import LabelEncoder\n",
        "import xgboost as xgb\n",
        "\n",
        "# -------------------- Load Features and Labels --------------------\n",
        "X = training_data['X_fasttext']  # FastText dense vectors\n",
        "label_encoder = LabelEncoder()\n",
        "y = label_encoder.fit_transform(df['label'])\n",
        "\n",
        "# -------------------- Train/Validation/Test Split --------------------\n",
        "X_temp, X_test, y_temp, y_test = train_test_split(X, y, test_size=0.2, stratify=y, random_state=42)\n",
        "X_train, X_val, y_train, y_val = train_test_split(X_temp, y_temp, test_size=0.1, stratify=y_temp, random_state=42)\n",
        "\n",
        "# -------------------- Baseline XGBoost Training --------------------\n",
        "print(\"\\nTraining Baseline XGBoost...\")\n",
        "\n",
        "baseline_xgb = xgb.XGBClassifier(\n",
        "    objective='multi:softmax',\n",
        "    num_class=len(np.unique(y)),\n",
        "    eval_metric='mlogloss',\n",
        "    use_label_encoder=False,\n",
        "    random_state=42\n",
        ")\n",
        "\n",
        "baseline_xgb.fit(X_train, y_train)\n",
        "\n",
        "# Predictions\n",
        "train_preds = baseline_xgb.predict(X_train)\n",
        "val_preds = baseline_xgb.predict(X_val)\n",
        "test_preds = baseline_xgb.predict(X_test)\n",
        "\n",
        "print(\"\\nBaseline XGBoost Results:\")\n",
        "print(\"Training Accuracy:\", accuracy_score(y_train, train_preds))\n",
        "print(\"Validation Accuracy:\", accuracy_score(y_val, val_preds))\n",
        "print(\"Testing Accuracy:\", accuracy_score(y_test, test_preds))\n",
        "\n",
        "# -------------------- XGBoost Hyperparameter Tuning --------------------\n",
        "print(\"\\nStarting XGBoost hyperparameter tuning...\")\n",
        "\n",
        "xgb_params = {\n",
        "    'max_depth': [3, 6],\n",
        "    'learning_rate': [0.1, 0.01],\n",
        "    'n_estimators': [100, 200],\n",
        "    'subsample': [0.8],\n",
        "    'colsample_bytree': [0.8]\n",
        "}\n",
        "\n",
        "xgb_model = xgb.XGBClassifier(\n",
        "    objective='multi:softmax',\n",
        "    num_class=len(np.unique(y)),\n",
        "    eval_metric='mlogloss',\n",
        "    use_label_encoder=False,\n",
        "    random_state=42\n",
        ")\n",
        "\n",
        "xgb_grid = GridSearchCV(estimator=xgb_model,\n",
        "                        param_grid=xgb_params,\n",
        "                        cv=3,\n",
        "                        n_jobs=-1,\n",
        "                        verbose=1)\n",
        "\n",
        "xgb_grid.fit(X_train, y_train)\n",
        "best_xgb = xgb_grid.best_estimator_\n",
        "\n",
        "# Predictions after tuning\n",
        "xgb_train_preds = best_xgb.predict(X_train)\n",
        "xgb_val_preds = best_xgb.predict(X_val)\n",
        "xgb_test_preds = best_xgb.predict(X_test)\n",
        "\n",
        "print(\"\\nTuned XGBoost Results:\")\n",
        "print(\"Best Parameters:\", xgb_grid.best_params_)\n",
        "print(\"Training Accuracy:\", accuracy_score(y_train, xgb_train_preds))\n",
        "print(\"Validation Accuracy:\", accuracy_score(y_val, xgb_val_preds))\n",
        "print(\"Testing Accuracy:\", accuracy_score(y_test, xgb_test_preds))\n"
      ],
      "metadata": {
        "id": "pKMgPV0g0gDk"
      },
      "execution_count": null,
      "outputs": []
    },
    {
      "cell_type": "code",
      "source": [
        "from sklearn.metrics import classification_report, roc_auc_score\n",
        "\n",
        "# -------------------- Baseline XGBoost Classification Report and AUC-ROC --------------------\n",
        "print(\"\\nClassification Report (Baseline XGBoost - Test Data):\")\n",
        "baseline_preds = xgb_model.predict(X_test)\n",
        "print(classification_report(y_test, baseline_preds, target_names=[str(cls) for cls in label_encoder.classes_]))\n",
        "\n",
        "try:\n",
        "    baseline_probs = xgb_model.predict_proba(X_test)  # shape: (n_samples, n_classes)\n",
        "    auc_baseline = roc_auc_score(tf.keras.utils.to_categorical(y_test), baseline_probs, multi_class='ovr', average='macro')\n",
        "    print(\"AUC-ROC (macro average OvR) Baseline XGBoost:\", auc_baseline)\n",
        "except Exception as e:\n",
        "    print(\"AUC-ROC (Baseline XGBoost) could not be calculated:\", e)\n",
        "\n",
        "\n",
        "# -------------------- Tuned XGBoost Classification Report and AUC-ROC --------------------\n",
        "print(\"\\nClassification Report (Tuned XGBoost - Test Data):\")\n",
        "print(classification_report(y_test, xgb_test_preds, target_names=[str(cls) for cls in label_encoder.classes_]))\n",
        "\n",
        "try:\n",
        "    tuned_probs = xgb_best_model.predict_proba(X_test)\n",
        "    auc_tuned = roc_auc_score(tf.keras.utils.to_categorical(y_test), tuned_probs, multi_class='ovr', average='macro')\n",
        "    print(\"AUC-ROC (macro average OvR) Tuned XGBoost:\", auc_tuned)\n",
        "except Exception as e:\n",
        "    print(\"AUC-ROC (Tuned XGBoost) could not be calculated:\", e)\n"
      ],
      "metadata": {
        "id": "MfAH23ZA1Xi8"
      },
      "execution_count": null,
      "outputs": []
    }
  ]
}