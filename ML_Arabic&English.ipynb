{
  "nbformat": 4,
  "nbformat_minor": 0,
  "metadata": {
    "colab": {
      "provenance": [],
      "collapsed_sections": [
        "fcA3aUy5gXSz"
      ],
      "authorship_tag": "ABX9TyNu52z/dQu3mOXYu1zlH3Zd",
      "include_colab_link": true
    },
    "kernelspec": {
      "name": "python3",
      "display_name": "Python 3"
    },
    "language_info": {
      "name": "python"
    }
  },
  "cells": [
    {
      "cell_type": "markdown",
      "metadata": {
        "id": "view-in-github",
        "colab_type": "text"
      },
      "source": [
        "<a href=\"https://colab.research.google.com/github/janaghoniem/Social-Media-Sentiment-Analysis/blob/main/ML_Arabic%26English.ipynb\" target=\"_parent\"><img src=\"https://colab.research.google.com/assets/colab-badge.svg\" alt=\"Open In Colab\"/></a>"
      ]
    },
    {
      "cell_type": "code",
      "execution_count": 2,
      "metadata": {
        "id": "gQ80u7VsaXde"
      },
      "outputs": [],
      "source": [
        "from sklearn.model_selection import train_test_split\n",
        "from sklearn.feature_extraction.text import TfidfVectorizer\n",
        "from sklearn.metrics import accuracy_score\n",
        "from sklearn.linear_model import LogisticRegression\n",
        "from sklearn.naive_bayes import MultinomialNB\n",
        "from sklearn.svm import LinearSVC\n",
        "from sklearn.ensemble import RandomForestClassifier\n",
        "from scipy.sparse import vstack\n",
        "from sklearn.model_selection import GridSearchCV\n",
        "from sklearn.metrics import accuracy_score\n",
        "import warnings\n",
        "from sklearn.exceptions import ConvergenceWarning\n",
        "warnings.filterwarnings(\"ignore\", category=ConvergenceWarning)\n",
        "import pandas as pd\n",
        "import numpy as np\n",
        "import ast\n",
        "import re\n",
        "import pickle\n",
        "from sklearn.preprocessing import LabelEncoder\n",
        "import tensorflow as tf\n",
        "from sklearn.ensemble import RandomForestClassifier\n",
        "from sklearn.model_selection import train_test_split\n",
        "from sklearn.metrics import accuracy_score\n",
        "from google.colab import drive"
      ]
    },
    {
      "cell_type": "markdown",
      "source": [
        "### Arabic Testing"
      ],
      "metadata": {
        "id": "fcA3aUy5gXSz"
      }
    },
    {
      "cell_type": "code",
      "source": [
        "drive.mount('/content/drive')\n",
        "df = pd.read_csv('/content/drive/MyDrive/Colab Notebooks/Data Science/Arabic Sentiment/Datasets/arabic_sentiment_reviews.csv')\n",
        "with open(\"/content/drive/MyDrive/Colab Notebooks/Data Science/Arabic Sentiment/Features/training_data.pkl\", 'rb') as f:\n",
        "    training_data = pickle.load(f)"
      ],
      "metadata": {
        "colab": {
          "base_uri": "https://localhost:8080/"
        },
        "id": "pAIgQCb-fqfE",
        "outputId": "44f617fd-11cf-4a47-e626-c5efc3c2b5e1",
        "collapsed": true
      },
      "execution_count": 3,
      "outputs": [
        {
          "output_type": "stream",
          "name": "stdout",
          "text": [
            "Drive already mounted at /content/drive; to attempt to forcibly remount, call drive.mount(\"/content/drive\", force_remount=True).\n"
          ]
        }
      ]
    },
    {
      "cell_type": "markdown",
      "source": [
        "1) Random forest"
      ],
      "metadata": {
        "id": "fyLD107ug7KS"
      }
    },
    {
      "cell_type": "code",
      "source": [
        "import numpy as np\n",
        "import pandas as pd\n",
        "from sklearn.ensemble import RandomForestClassifier\n",
        "from sklearn.model_selection import train_test_split, GridSearchCV\n",
        "from sklearn.metrics import accuracy_score, precision_score, recall_score, f1_score, roc_auc_score, classification_report\n",
        "from sklearn.preprocessing import LabelEncoder, label_binarize\n",
        "import tensorflow as tf\n",
        "\n",
        "# Load features and labels\n",
        "X = training_data['X_fasttext']\n",
        "label_encoder = LabelEncoder()\n",
        "y = label_encoder.fit_transform(df['label'])\n",
        "y_cat = tf.keras.utils.to_categorical(y)\n",
        "\n",
        "# Split data into train, validation, test\n",
        "X_temp, X_test, y_temp, y_test = train_test_split(X, y_cat, test_size=0.2, stratify=y_cat, random_state=42)\n",
        "X_train, X_val, y_train, y_val = train_test_split(X_temp, y_temp, test_size=0.1, stratify=y_temp, random_state=42)\n",
        "\n",
        "# Prepare labels for sklearn (not one-hot)\n",
        "y_train_sklearn = np.argmax(y_train, axis=1)\n",
        "y_val_sklearn = np.argmax(y_val, axis=1)\n",
        "y_test_sklearn = np.argmax(y_test, axis=1)\n",
        "\n",
        "# Train initial Random Forest\n",
        "rf_model = RandomForestClassifier(n_estimators=100, max_depth=20, random_state=42)\n",
        "rf_model.fit(X_train, y_train_sklearn)\n",
        "\n",
        "# Evaluate initial model\n",
        "print(\"Initial Random Forest Training Accuracy:\", accuracy_score(y_train_sklearn, rf_model.predict(X_train)))\n",
        "print(\"Initial Random Forest Validation Accuracy:\", accuracy_score(y_val_sklearn, rf_model.predict(X_val)))\n",
        "print(\"Initial Random Forest Testing Accuracy:\", accuracy_score(y_test_sklearn, rf_model.predict(X_test)))\n",
        "\n",
        "print(\"--------------------------------------------------\")\n",
        "\n",
        "# Combine train and validation for tuning\n",
        "X_train_val = np.vstack([X_train, X_val])\n",
        "y_train_val = np.concatenate([y_train_sklearn, y_val_sklearn])\n",
        "\n",
        "# Hyperparameter tuning with GridSearchCV\n",
        "rf_params = {\n",
        "    'n_estimators': [100, 200],\n",
        "    'max_depth': [20, 30, None],\n",
        "    'min_samples_split': [2, 5],\n",
        "    'min_samples_leaf': [1, 2]\n",
        "}\n",
        "\n",
        "rf_grid = GridSearchCV(RandomForestClassifier(random_state=42),\n",
        "                       rf_params,\n",
        "                       cv=3,\n",
        "                       n_jobs=-1,\n",
        "                       verbose=1)\n",
        "rf_grid.fit(X_train_val, y_train_val)\n",
        "\n",
        "# Best model after tuning\n",
        "best_rf = rf_grid.best_estimator_\n",
        "\n",
        "# Evaluate best model\n",
        "print(\"Best Parameters:\", rf_grid.best_params_)\n",
        "print(\"Best Random Forest Training Accuracy:\", accuracy_score(y_train_sklearn, best_rf.predict(X_train)))\n",
        "print(\"Best Random Forest Validation Accuracy:\", accuracy_score(y_val_sklearn, best_rf.predict(X_val)))\n",
        "print(\"Best Random Forest Testing Accuracy:\", accuracy_score(y_test_sklearn, best_rf.predict(X_test)))\n",
        "\n",
        "print(\"--------------------------------------------------\")\n",
        "\n",
        "# Evaluate best model with additional metrics on the test set\n",
        "y_test_pred = best_rf.predict(X_test)\n",
        "y_test_proba = best_rf.predict_proba(X_test)\n",
        "\n",
        "# Accuracy\n",
        "print(\"Test Accuracy:\", accuracy_score(y_test_sklearn, y_test_pred))\n",
        "\n",
        "# Precision, Recall, F1-score (macro because it's multiclass)\n",
        "print(\"Test Precision (Macro):\", precision_score(y_test_sklearn, y_test_pred, average='macro'))\n",
        "print(\"Test Recall (Macro):\", recall_score(y_test_sklearn, y_test_pred, average='macro'))\n",
        "print(\"Test F1-Score (Macro):\", f1_score(y_test_sklearn, y_test_pred, average='macro'))\n",
        "\n",
        "# Classification report\n",
        "print(\"\\nClassification Report:\\n\", classification_report(y_test_sklearn, y_test_pred, target_names=label_encoder.classes_))\n",
        "\n",
        "# AUC-ROC (requires one-hot encoded y_test)\n",
        "y_test_bin = label_binarize(y_test_sklearn, classes=np.arange(len(label_encoder.classes_)))\n",
        "\n",
        "# Handle multiclass AUC\n",
        "try:\n",
        "    auc_roc = roc_auc_score(y_test_bin, y_test_proba, multi_class='ovr', average='macro')\n",
        "    print(\"Test AUC-ROC (Macro OVR):\", auc_roc)\n",
        "except ValueError as e:\n",
        "    print(\"AUC-ROC Error:\", e)\n"
      ],
      "metadata": {
        "colab": {
          "base_uri": "https://localhost:8080/"
        },
        "id": "R4LDdqpLfrh9",
        "outputId": "42d48bc6-25cd-46ed-bf2e-b60a51e0e927"
      },
      "execution_count": null,
      "outputs": [
        {
          "output_type": "stream",
          "name": "stdout",
          "text": [
            "Initial Random Forest Training Accuracy: 0.9956228956228956\n",
            "Initial Random Forest Validation Accuracy: 0.7590530303030303\n",
            "Initial Random Forest Testing Accuracy: 0.7500151515151515\n",
            "--------------------------------------------------\n",
            "Fitting 3 folds for each of 24 candidates, totalling 72 fits\n"
          ]
        },
        {
          "output_type": "stream",
          "name": "stderr",
          "text": [
            "/usr/local/lib/python3.11/dist-packages/joblib/externals/loky/process_executor.py:782: UserWarning: A worker stopped while some jobs were given to the executor. This can be caused by a too short worker timeout or by a memory leak.\n",
            "  warnings.warn(\n",
            "ERROR:root:Internal Python error in the inspect module.\n",
            "Below is the traceback from this internal error.\n",
            "\n",
            "\n",
            "KeyboardInterrupt\n",
            "\n"
          ]
        }
      ]
    },
    {
      "cell_type": "markdown",
      "source": [
        "2) SVM"
      ],
      "metadata": {
        "id": "AOXvTmD6hSN-"
      }
    },
    {
      "cell_type": "code",
      "source": [
        "import pandas as pd\n",
        "import numpy as np\n",
        "from sklearn.model_selection import train_test_split, GridSearchCV\n",
        "from sklearn.svm import LinearSVC\n",
        "from sklearn.metrics import accuracy_score\n",
        "from sklearn.preprocessing import LabelEncoder\n",
        "import tensorflow as tf\n",
        "\n",
        "# Load features and labels\n",
        "X = training_data['X_fasttext']  # Use your dense FastText embeddings\n",
        "label_encoder = LabelEncoder()\n",
        "y = label_encoder.fit_transform(df['label'])\n",
        "y_cat = tf.keras.utils.to_categorical(y)\n",
        "\n",
        "# Split into train, validation, test (stratifying on labels)\n",
        "X_temp, X_test, y_temp, y_test = train_test_split(X, y, test_size=0.2, stratify=y, random_state=42)\n",
        "X_train, X_val, y_train, y_val = train_test_split(X_temp, y_temp, test_size=0.1, stratify=y_temp, random_state=42)\n",
        "\n",
        "# ----------------- Baseline SVM -----------------\n",
        "print(\"\\nTraining Baseline SVM...\")\n",
        "svm_baseline = LinearSVC(max_iter=10000, random_state=42, dual=False)\n",
        "svm_baseline.fit(X_train, y_train)\n",
        "\n",
        "# Predictions\n",
        "train_preds = svm_baseline.predict(X_train)\n",
        "val_preds = svm_baseline.predict(X_val)\n",
        "test_preds = svm_baseline.predict(X_test)\n",
        "\n",
        "print(\"\\nBaseline SVM Results:\")\n",
        "print(\"Training Accuracy:\", accuracy_score(y_train, train_preds))\n",
        "print(\"Validation Accuracy:\", accuracy_score(y_val, val_preds))\n",
        "print(\"Testing Accuracy:\", accuracy_score(y_test, test_preds))\n",
        "\n",
        "# ----------------- SVM Hyperparameter Tuning -----------------\n",
        "print(\"\\nStarting SVM hyperparameter tuning...\")\n",
        "svm_params = {\n",
        "    'C': [0.1, 1, 10, 100],\n",
        "    'penalty': ['l2'],\n",
        "    'loss': ['squared_hinge'],\n",
        "    'dual': [False]\n",
        "}\n",
        "\n",
        "svm_grid = GridSearchCV(\n",
        "    LinearSVC(random_state=42, max_iter=10000),\n",
        "    svm_params,\n",
        "    cv=3,\n",
        "    n_jobs=-1,\n",
        "    verbose=1\n",
        ")\n",
        "\n",
        "# Fit ONLY on X_train (avoid stacking with val)\n",
        "svm_grid.fit(X_train, y_train)\n",
        "best_svm = svm_grid.best_estimator_\n",
        "\n",
        "# Predictions after tuning\n",
        "svm_train_preds = best_svm.predict(X_train)\n",
        "svm_val_preds = best_svm.predict(X_val)\n",
        "svm_test_preds = best_svm.predict(X_test)\n",
        "\n",
        "print(\"\\nTuned SVM Results:\")\n",
        "print(\"Best Parameters:\", svm_grid.best_params_)\n",
        "print(\"Training Accuracy:\", accuracy_score(y_train, svm_train_preds))\n",
        "print(\"Validation Accuracy:\", accuracy_score(y_val, svm_val_preds))\n",
        "print(\"Testing Accuracy:\", accuracy_score(y_test, svm_test_preds))\n"
      ],
      "metadata": {
        "id": "OtyTu2sihTOk",
        "outputId": "8bcb7009-13eb-4288-d0d6-73d95a16175a",
        "colab": {
          "base_uri": "https://localhost:8080/"
        }
      },
      "execution_count": 4,
      "outputs": [
        {
          "output_type": "stream",
          "name": "stdout",
          "text": [
            "\n",
            "Training Baseline SVM...\n",
            "\n",
            "Baseline SVM Results:\n",
            "Training Accuracy: 0.798956228956229\n",
            "Validation Accuracy: 0.7990909090909091\n",
            "Testing Accuracy: 0.7961818181818182\n",
            "\n",
            "Starting SVM hyperparameter tuning...\n",
            "Fitting 3 folds for each of 4 candidates, totalling 12 fits\n",
            "\n",
            "Tuned SVM Results:\n",
            "Best Parameters: {'C': 10, 'dual': False, 'loss': 'squared_hinge', 'penalty': 'l2'}\n",
            "Training Accuracy: 0.7989814814814815\n",
            "Validation Accuracy: 0.7992803030303031\n",
            "Testing Accuracy: 0.7964545454545454\n"
          ]
        }
      ]
    },
    {
      "cell_type": "code",
      "source": [
        "from sklearn.metrics import classification_report, roc_auc_score\n",
        "\n",
        "# ---- Classification Report ----\n",
        "print(\"\\nClassification Report (Test Data):\")\n",
        "print(classification_report(y_test, test_preds, target_names=[str(cls) for cls in label_encoder.classes_]))\n",
        "\n",
        "# ---- AUC-ROC (using decision_function) ----\n",
        "try:\n",
        "    test_decision_scores = svm_baseline.decision_function(X_test)\n",
        "    auc = roc_auc_score(y_test, test_decision_scores, multi_class='ovr', average='macro')\n",
        "    print(\"AUC-ROC (macro average OvR):\", auc)\n",
        "except Exception as e:\n",
        "    print(\"AUC-ROC could not be calculated:\", e)\n",
        "\n",
        "from sklearn.metrics import classification_report, roc_auc_score\n",
        "\n",
        "# ---- Classification Report (Tuned SVM) ----\n",
        "print(\"\\nClassification Report (Tuned SVM - Test Data):\")\n",
        "print(classification_report(y_test, svm_test_preds, target_names=[str(cls) for cls in label_encoder.classes_]))\n",
        "\n",
        "# ---- AUC-ROC (using decision_function for Tuned SVM) ----\n",
        "try:\n",
        "    test_decision_scores_tuned = best_svm.decision_function(X_test)\n",
        "    auc_tuned = roc_auc_score(y_test, test_decision_scores_tuned, multi_class='ovr', average='macro')\n",
        "    print(\"AUC-ROC (macro average OvR) Tuned SVM:\", auc_tuned)\n",
        "except Exception as e:\n",
        "    print(\"AUC-ROC (Tuned SVM) could not be calculated:\", e)\n",
        "\n"
      ],
      "metadata": {
        "id": "ycNjJm9K8i3A",
        "outputId": "0feb7f3a-a11c-4b0b-b285-b197c247ea1f",
        "colab": {
          "base_uri": "https://localhost:8080/"
        }
      },
      "execution_count": 11,
      "outputs": [
        {
          "output_type": "stream",
          "name": "stdout",
          "text": [
            "\n",
            "Classification Report (Test Data):\n",
            "              precision    recall  f1-score   support\n",
            "\n",
            "           0       0.61      0.77      0.68     32629\n",
            "           1       0.70      0.52      0.60     33371\n",
            "\n",
            "    accuracy                           0.64     66000\n",
            "   macro avg       0.65      0.64      0.64     66000\n",
            "weighted avg       0.65      0.64      0.64     66000\n",
            "\n",
            "AUC-ROC (macro average OvR): 0.8760152659478608\n",
            "\n",
            "Classification Report (Tuned SVM - Test Data):\n",
            "              precision    recall  f1-score   support\n",
            "\n",
            "           0       0.79      0.81      0.80     32629\n",
            "           1       0.81      0.79      0.80     33371\n",
            "\n",
            "    accuracy                           0.80     66000\n",
            "   macro avg       0.80      0.80      0.80     66000\n",
            "weighted avg       0.80      0.80      0.80     66000\n",
            "\n",
            "AUC-ROC (macro average OvR) Tuned SVM: 0.8760306967319824\n"
          ]
        }
      ]
    },
    {
      "cell_type": "markdown",
      "source": [
        "3) Logistic regression"
      ],
      "metadata": {
        "id": "s32o3qjihjgq"
      }
    },
    {
      "cell_type": "code",
      "source": [
        "import pandas as pd\n",
        "import numpy as np\n",
        "from sklearn.model_selection import train_test_split, GridSearchCV\n",
        "from sklearn.linear_model import LogisticRegression\n",
        "from sklearn.metrics import accuracy_score\n",
        "from sklearn.preprocessing import LabelEncoder\n",
        "import tensorflow as tf\n",
        "\n",
        "# Load features and labels\n",
        "X = training_data['X_fasttext']  # Use your dense FastText embeddings\n",
        "label_encoder = LabelEncoder()\n",
        "y = label_encoder.fit_transform(df['label'])\n",
        "y_cat = tf.keras.utils.to_categorical(y)\n",
        "\n",
        "# Split into train, validation, test (stratifying on labels)\n",
        "X_temp, X_test, y_temp, y_test = train_test_split(X, y, test_size=0.2, stratify=y, random_state=42)\n",
        "X_train, X_val, y_train, y_val = train_test_split(X_temp, y_temp, test_size=0.1, stratify=y_temp, random_state=42)\n",
        "\n",
        "# ----------------- Baseline Logistic Regression -----------------\n",
        "print(\"\\nTraining Baseline Logistic Regression...\")\n",
        "logreg_baseline = LogisticRegression(max_iter=10000, random_state=42, solver='lbfgs', multi_class='multinomial')\n",
        "logreg_baseline.fit(X_train, y_train)\n",
        "\n",
        "# Predictions\n",
        "train_preds = logreg_baseline.predict(X_train)\n",
        "val_preds = logreg_baseline.predict(X_val)\n",
        "test_preds = logreg_baseline.predict(X_test)\n",
        "\n",
        "print(\"\\nBaseline Logistic Regression Results:\")\n",
        "print(\"Training Accuracy:\", accuracy_score(y_train, train_preds))\n",
        "print(\"Validation Accuracy:\", accuracy_score(y_val, val_preds))\n",
        "print(\"Testing Accuracy:\", accuracy_score(y_test, test_preds))\n",
        "\n",
        "# ----------------- Logistic Regression Hyperparameter Tuning -----------------\n",
        "print(\"\\nStarting Logistic Regression hyperparameter tuning...\")\n",
        "logreg_params = {\n",
        "    'C': [0.01, 0.1, 1, 10, 100],\n",
        "    'penalty': ['l2'],\n",
        "    'solver': ['lbfgs'],  # Good for multiclass\n",
        "    'multi_class': ['multinomial']\n",
        "}\n",
        "\n",
        "logreg_grid = GridSearchCV(\n",
        "    LogisticRegression(max_iter=10000, random_state=42),\n",
        "    logreg_params,\n",
        "    cv=3,\n",
        "    n_jobs=-1,\n",
        "    verbose=1\n",
        ")\n",
        "\n",
        "# Fit ONLY on X_train\n",
        "logreg_grid.fit(X_train, y_train)\n",
        "best_logreg = logreg_grid.best_estimator_\n",
        "\n",
        "# Predictions after tuning\n",
        "logreg_train_preds = best_logreg.predict(X_train)\n",
        "logreg_val_preds = best_logreg.predict(X_val)\n",
        "logreg_test_preds = best_logreg.predict(X_test)\n",
        "\n",
        "print(\"\\nTuned Logistic Regression Results:\")\n",
        "print(\"Best Parameters:\", logreg_grid.best_params_)\n",
        "print(\"Training Accuracy:\", accuracy_score(y_train, logreg_train_preds))\n",
        "print(\"Validation Accuracy:\", accuracy_score(y_val, logreg_val_preds))\n",
        "print(\"Testing Accuracy:\", accuracy_score(y_test, logreg_test_preds))\n"
      ],
      "metadata": {
        "id": "uzOt86EJhiu2",
        "outputId": "add09d79-8ff7-4807-a3b5-a3af98512715",
        "colab": {
          "base_uri": "https://localhost:8080/"
        }
      },
      "execution_count": 5,
      "outputs": [
        {
          "output_type": "stream",
          "name": "stdout",
          "text": [
            "\n",
            "Training Baseline Logistic Regression...\n"
          ]
        },
        {
          "output_type": "stream",
          "name": "stderr",
          "text": [
            "/usr/local/lib/python3.11/dist-packages/sklearn/linear_model/_logistic.py:1237: FutureWarning: 'multi_class' was deprecated in version 1.5 and will be removed in 1.7. From then on, binary problems will be fit as proper binary  logistic regression models (as if multi_class='ovr' were set). Leave it to its default value to avoid this warning.\n",
            "  warnings.warn(\n"
          ]
        },
        {
          "output_type": "stream",
          "name": "stdout",
          "text": [
            "\n",
            "Baseline Logistic Regression Results:\n",
            "Training Accuracy: 0.796986531986532\n",
            "Validation Accuracy: 0.7985227272727272\n",
            "Testing Accuracy: 0.7941666666666667\n",
            "\n",
            "Starting Logistic Regression hyperparameter tuning...\n",
            "Fitting 3 folds for each of 5 candidates, totalling 15 fits\n"
          ]
        },
        {
          "output_type": "stream",
          "name": "stderr",
          "text": [
            "/usr/local/lib/python3.11/dist-packages/sklearn/linear_model/_logistic.py:1237: FutureWarning: 'multi_class' was deprecated in version 1.5 and will be removed in 1.7. From then on, binary problems will be fit as proper binary  logistic regression models (as if multi_class='ovr' were set). Leave it to its default value to avoid this warning.\n",
            "  warnings.warn(\n"
          ]
        },
        {
          "output_type": "stream",
          "name": "stdout",
          "text": [
            "\n",
            "Tuned Logistic Regression Results:\n",
            "Best Parameters: {'C': 100, 'multi_class': 'multinomial', 'penalty': 'l2', 'solver': 'lbfgs'}\n",
            "Training Accuracy: 0.7981060606060606\n",
            "Validation Accuracy: 0.798939393939394\n",
            "Testing Accuracy: 0.7962575757575757\n"
          ]
        }
      ]
    },
    {
      "cell_type": "code",
      "source": [
        "from sklearn.metrics import classification_report, roc_auc_score\n",
        "\n",
        "# ---- Classification Report (Baseline Logistic Regression) ----\n",
        "print(\"\\nClassification Report (Baseline Logistic Regression - Test Data):\")\n",
        "print(classification_report(y_test, test_preds, target_names=[str(cls) for cls in label_encoder.classes_]))\n",
        "\n",
        "# ---- AUC-ROC (using decision_function for Baseline Logistic Regression) ----\n",
        "try:\n",
        "    test_decision_scores_baseline = logreg_baseline.decision_function(X_test)\n",
        "    auc_baseline = roc_auc_score(y_test, test_decision_scores_baseline, multi_class='ovr', average='macro')\n",
        "    print(\"AUC-ROC (macro average OvR) Baseline Logistic Regression:\", auc_baseline)\n",
        "except Exception as e:\n",
        "    print(\"AUC-ROC (Baseline Logistic Regression) could not be calculated:\", e)\n",
        "\n",
        "\n",
        "# ---- Classification Report (Tuned Logistic Regression) ----\n",
        "print(\"\\nClassification Report (Tuned Logistic Regression - Test Data):\")\n",
        "print(classification_report(y_test, logreg_test_preds, target_names=[str(cls) for cls in label_encoder.classes_]))\n",
        "\n",
        "# ---- AUC-ROC (using decision_function for Tuned Logistic Regression) ----\n",
        "try:\n",
        "    test_decision_scores_tuned = best_logreg.decision_function(X_test)\n",
        "    auc_tuned = roc_auc_score(y_test, test_decision_scores_tuned, multi_class='ovr', average='macro')\n",
        "    print(\"AUC-ROC (macro average OvR) Tuned Logistic Regression:\", auc_tuned)\n",
        "except Exception as e:\n",
        "    print(\"AUC-ROC (Tuned Logistic Regression) could not be calculated:\", e)\n"
      ],
      "metadata": {
        "id": "cmAH8uKm9Lrk",
        "outputId": "5cb4896e-2211-4295-c53d-cbfa37a0e511",
        "colab": {
          "base_uri": "https://localhost:8080/"
        }
      },
      "execution_count": 13,
      "outputs": [
        {
          "output_type": "stream",
          "name": "stdout",
          "text": [
            "\n",
            "Classification Report (Baseline Logistic Regression - Test Data):\n",
            "              precision    recall  f1-score   support\n",
            "\n",
            "           0       0.61      0.77      0.68     32629\n",
            "           1       0.70      0.52      0.60     33371\n",
            "\n",
            "    accuracy                           0.64     66000\n",
            "   macro avg       0.65      0.64      0.64     66000\n",
            "weighted avg       0.65      0.64      0.64     66000\n",
            "\n",
            "AUC-ROC (macro average OvR) Baseline Logistic Regression: 0.8741980417747179\n",
            "\n",
            "Classification Report (Tuned Logistic Regression - Test Data):\n",
            "              precision    recall  f1-score   support\n",
            "\n",
            "           0       0.79      0.80      0.80     32629\n",
            "           1       0.81      0.79      0.80     33371\n",
            "\n",
            "    accuracy                           0.80     66000\n",
            "   macro avg       0.80      0.80      0.80     66000\n",
            "weighted avg       0.80      0.80      0.80     66000\n",
            "\n",
            "AUC-ROC (macro average OvR) Tuned Logistic Regression: 0.875517256263241\n"
          ]
        }
      ]
    },
    {
      "cell_type": "markdown",
      "source": [
        "4) Naive Bayes"
      ],
      "metadata": {
        "id": "30rzbGl7hv4t"
      }
    },
    {
      "cell_type": "code",
      "source": [
        "import pandas as pd\n",
        "import numpy as np\n",
        "from sklearn.model_selection import train_test_split, GridSearchCV\n",
        "from sklearn.naive_bayes import GaussianNB\n",
        "from sklearn.metrics import accuracy_score\n",
        "from sklearn.preprocessing import LabelEncoder\n",
        "import tensorflow as tf\n",
        "\n",
        "# Load features and labels\n",
        "X = training_data['X_fasttext']\n",
        "label_encoder = LabelEncoder()\n",
        "y = label_encoder.fit_transform(df['label'])\n",
        "\n",
        "# Split into train, validation, test (stratifying on labels)\n",
        "X_temp, X_test, y_temp, y_test = train_test_split(X, y, test_size=0.2, stratify=y, random_state=42)\n",
        "X_train, X_val, y_train, y_val = train_test_split(X_temp, y_temp, test_size=0.1, stratify=y_temp, random_state=42)\n",
        "\n",
        "# ----------------- Baseline Gaussian Naive Bayes -----------------\n",
        "print(\"\\nTraining Baseline Gaussian Naive Bayes...\")\n",
        "nb_baseline = GaussianNB()\n",
        "nb_baseline.fit(X_train, y_train)\n",
        "\n",
        "# Predictions\n",
        "train_preds = nb_baseline.predict(X_train)\n",
        "val_preds = nb_baseline.predict(X_val)\n",
        "test_preds = nb_baseline.predict(X_test)\n",
        "\n",
        "print(\"\\nBaseline Gaussian Naive Bayes Results:\")\n",
        "print(\"Training Accuracy:\", accuracy_score(y_train, train_preds))\n",
        "print(\"Validation Accuracy:\", accuracy_score(y_val, val_preds))\n",
        "print(\"Testing Accuracy:\", accuracy_score(y_test, test_preds))\n",
        "\n",
        "# ----------------- Naive Bayes Hyperparameter Tuning -----------------\n",
        "# For GaussianNB, the main hyperparameter is var_smoothing (default: 1e-9)\n",
        "print(\"\\nStarting Gaussian Naive Bayes hyperparameter tuning...\")\n",
        "nb_params = {\n",
        "    'var_smoothing': [1e-9, 1e-8, 1e-7, 1e-6, 1e-5]\n",
        "}\n",
        "\n",
        "nb_grid = GridSearchCV(\n",
        "    GaussianNB(),\n",
        "    nb_params,\n",
        "    cv=3,\n",
        "    n_jobs=-1,\n",
        "    verbose=1\n",
        ")\n",
        "\n",
        "# Fit ONLY on X_train\n",
        "nb_grid.fit(X_train, y_train)\n",
        "best_nb = nb_grid.best_estimator_\n",
        "\n",
        "# Predictions after tuning\n",
        "nb_train_preds = best_nb.predict(X_train)\n",
        "nb_val_preds = best_nb.predict(X_val)\n",
        "nb_test_preds = best_nb.predict(X_test)\n",
        "\n",
        "print(\"\\nTuned Gaussian Naive Bayes Results:\")\n",
        "print(\"Best Parameters:\", nb_grid.best_params_)\n",
        "print(\"Training Accuracy:\", accuracy_score(y_train, nb_train_preds))\n",
        "print(\"Validation Accuracy:\", accuracy_score(y_val, nb_val_preds))\n",
        "print(\"Testing Accuracy:\", accuracy_score(y_test, nb_test_preds))\n"
      ],
      "metadata": {
        "id": "5UKsCXImhxHf",
        "outputId": "c77aff8e-ddb8-47b6-cc48-90e722a872a5",
        "colab": {
          "base_uri": "https://localhost:8080/"
        }
      },
      "execution_count": 7,
      "outputs": [
        {
          "output_type": "stream",
          "name": "stdout",
          "text": [
            "\n",
            "Training Baseline Gaussian Naive Bayes...\n",
            "\n",
            "Baseline Gaussian Naive Bayes Results:\n",
            "Training Accuracy: 0.6434175084175084\n",
            "Validation Accuracy: 0.6449621212121213\n",
            "Testing Accuracy: 0.6429090909090909\n",
            "\n",
            "Starting Gaussian Naive Bayes hyperparameter tuning...\n",
            "Fitting 3 folds for each of 5 candidates, totalling 15 fits\n",
            "\n",
            "Tuned Gaussian Naive Bayes Results:\n",
            "Best Parameters: {'var_smoothing': 1e-05}\n",
            "Training Accuracy: 0.6433964646464646\n",
            "Validation Accuracy: 0.645\n",
            "Testing Accuracy: 0.6428939393939394\n"
          ]
        }
      ]
    },
    {
      "cell_type": "code",
      "source": [
        "from sklearn.metrics import classification_report, roc_auc_score\n",
        "\n",
        "# ---- Classification Report (Baseline Naive Bayes) ----\n",
        "print(\"\\nClassification Report (Baseline Gaussian Naive Bayes - Test Data):\")\n",
        "print(classification_report(y_test, test_preds, target_names=[str(cls) for cls in label_encoder.classes_]))\n",
        "\n",
        "# ---- AUC-ROC (Baseline Naive Bayes) ----\n",
        "try:\n",
        "    test_prob_scores_baseline = nb_baseline.predict_proba(X_test)\n",
        "    auc_baseline = roc_auc_score(y_test, test_prob_scores_baseline, multi_class='ovr', average='macro')\n",
        "    print(\"AUC-ROC (macro average OvR) Baseline Naive Bayes:\", auc_baseline)\n",
        "except Exception as e:\n",
        "    print(\"AUC-ROC (Baseline Naive Bayes) could not be calculated:\", e)\n",
        "\n",
        "# ---- Classification Report (Tuned Naive Bayes) ----\n",
        "print(\"\\nClassification Report (Tuned Gaussian Naive Bayes - Test Data):\")\n",
        "print(classification_report(y_test, nb_test_preds, target_names=[str(cls) for cls in label_encoder.classes_]))\n",
        "\n",
        "# ---- AUC-ROC (Tuned Naive Bayes) ----\n",
        "try:\n",
        "    test_prob_scores_tuned = best_nb.predict_proba(X_test)\n",
        "    auc_tuned = roc_auc_score(y_test, test_prob_scores_tuned, multi_class='ovr', average='macro')\n",
        "    print(\"AUC-ROC (macro average OvR) Tuned Naive Bayes:\", auc_tuned)\n",
        "except Exception as e:\n",
        "    print(\"AUC-ROC (Tuned Naive Bayes) could not be calculated:\", e)\n",
        "\n"
      ],
      "metadata": {
        "id": "7SuzoEzF9ad4",
        "outputId": "85d1b31c-eae9-4f15-f347-9ce7a6ddb8b7",
        "colab": {
          "base_uri": "https://localhost:8080/"
        }
      },
      "execution_count": 17,
      "outputs": [
        {
          "output_type": "stream",
          "name": "stdout",
          "text": [
            "\n",
            "Classification Report (Baseline Gaussian Naive Bayes - Test Data):\n",
            "              precision    recall  f1-score   support\n",
            "\n",
            "           0       0.61      0.77      0.68     32629\n",
            "           1       0.70      0.52      0.60     33371\n",
            "\n",
            "    accuracy                           0.64     66000\n",
            "   macro avg       0.65      0.64      0.64     66000\n",
            "weighted avg       0.65      0.64      0.64     66000\n",
            "\n",
            "AUC-ROC (Baseline Naive Bayes) could not be calculated: y should be a 1d array, got an array of shape (66000, 2) instead.\n",
            "\n",
            "Classification Report (Tuned Gaussian Naive Bayes - Test Data):\n",
            "              precision    recall  f1-score   support\n",
            "\n",
            "           0       0.61      0.77      0.68     32629\n",
            "           1       0.70      0.52      0.60     33371\n",
            "\n",
            "    accuracy                           0.64     66000\n",
            "   macro avg       0.65      0.64      0.64     66000\n",
            "weighted avg       0.65      0.64      0.64     66000\n",
            "\n",
            "AUC-ROC (Tuned Naive Bayes) could not be calculated: y should be a 1d array, got an array of shape (66000, 2) instead.\n"
          ]
        }
      ]
    },
    {
      "cell_type": "markdown",
      "source": [
        "### English testing"
      ],
      "metadata": {
        "id": "SBGkVmHageFp"
      }
    },
    {
      "cell_type": "code",
      "source": [
        "df = pd.read_csv('/content/drive/MyDrive/Colab Notebooks/English_cleaned.csv')\n",
        "X = df['normalized_tweet']\n",
        "y = df['target']"
      ],
      "metadata": {
        "id": "j5D_s8ktgja6"
      },
      "execution_count": null,
      "outputs": []
    },
    {
      "cell_type": "markdown",
      "source": [
        "1) Random Forest"
      ],
      "metadata": {
        "id": "zs7P71LSppTh"
      }
    },
    {
      "cell_type": "code",
      "source": [
        "# Split into train+validation and test sets first (80% train_val, 20% test)\n",
        "X_train_val, X_test, y_train_val, y_test = train_test_split(\n",
        "    X, y, test_size=0.2, random_state=42, stratify=y\n",
        ")\n",
        "\n",
        "# Then split train+validation into train and validation sets (80/20 split of train_val)\n",
        "X_train, X_val, y_train, y_val = train_test_split(\n",
        "    X_train_val, y_train_val, test_size=0.25, random_state=42, stratify=y_train_val\n",
        ")  # 0.25 x 0.8 = 0.2, so final: 60% train, 20% val, 20% test\n",
        "\n",
        "# TF-IDF Vectorization\n",
        "vectorizer = TfidfVectorizer(max_features=5000)\n",
        "X_train_tfidf = vectorizer.fit_transform(X_train)\n",
        "X_val_tfidf = vectorizer.transform(X_val)\n",
        "X_test_tfidf = vectorizer.transform(X_test)\n",
        "\n",
        "# Random Forest Classifier\n",
        "rf_model = RandomForestClassifier(\n",
        "    n_estimators=100,  # Number of trees\n",
        "    random_state=42,\n",
        "    n_jobs=-1  # Use all cores for training\n",
        ")\n",
        "rf_model.fit(X_train_tfidf, y_train)\n",
        "\n",
        "# Predictions\n",
        "y_train_pred = rf_model.predict(X_train_tfidf)\n",
        "y_val_pred = rf_model.predict(X_val_tfidf)\n",
        "y_test_pred = rf_model.predict(X_test_tfidf)\n",
        "\n",
        "# Accuracy calculations\n",
        "train_acc = accuracy_score(y_train, y_train_pred)\n",
        "val_acc = accuracy_score(y_val, y_val_pred)\n",
        "test_acc = accuracy_score(y_test, y_test_pred)\n",
        "\n",
        "# Output results\n",
        "print(f\"Random Forest Train Accuracy: {train_acc:.4f}\")\n",
        "print(f\"Random Forest Validation Accuracy: {val_acc:.4f}\")\n",
        "print(f\"Random Forest Test Accuracy: {test_acc:.4f}\")\n",
        "\n",
        "param_grid = {\n",
        "    'n_estimators': [100, 200],\n",
        "    'max_depth': [None, 10, 20],\n",
        "    'min_samples_split': [2, 5],\n",
        "    'min_samples_leaf': [1, 2],\n",
        "    'bootstrap': [True, False]\n",
        "}\n",
        "\n",
        "grid_search = GridSearchCV(\n",
        "    RandomForestClassifier(random_state=42, n_jobs=-1),\n",
        "    param_grid,\n",
        "    cv=3,\n",
        "    scoring='accuracy',\n",
        "    verbose=1,\n",
        "    n_jobs=-1\n",
        ")\n",
        "\n",
        "# Fit grid search to the training data\n",
        "grid_search.fit(X_train_tfidf, y_train)\n",
        "\n",
        "# Best parameters and model\n",
        "print(\"Best Hyperparameters:\", grid_search.best_params_)\n",
        "best_rf_model = grid_search.best_estimator_\n",
        "\n",
        "# Evaluate tuned model\n",
        "y_train_pred_tuned = best_rf_model.predict(X_train_tfidf)\n",
        "y_val_pred_tuned = best_rf_model.predict(X_val_tfidf)\n",
        "y_test_pred_tuned = best_rf_model.predict(X_test_tfidf)\n",
        "\n",
        "# Accuracy calculations for tuned model\n",
        "train_acc_tuned = accuracy_score(y_train, y_train_pred_tuned)\n",
        "val_acc_tuned = accuracy_score(y_val, y_val_pred_tuned)\n",
        "test_acc_tuned = accuracy_score(y_test, y_test_pred_tuned)\n",
        "\n",
        "# Output tuned model results\n",
        "print(f\"TUNED Random Forest Train Accuracy: {train_acc_tuned:.4f}\")\n",
        "print(f\"TUNED Random Forest Validation Accuracy: {val_acc_tuned:.4f}\")\n",
        "print(f\"TUNED Random Forest Test Accuracy: {test_acc_tuned:.4f}\")"
      ],
      "metadata": {
        "colab": {
          "base_uri": "https://localhost:8080/",
          "height": 438
        },
        "id": "wEN7lB1vppki",
        "outputId": "a4269e7e-0991-47b1-b847-f655be067651"
      },
      "execution_count": null,
      "outputs": [
        {
          "output_type": "stream",
          "name": "stdout",
          "text": [
            "SVM Train Accuracy: 0.7924\n",
            "SVM Validation Accuracy: 0.7255\n",
            "SVM Test Accuracy: 0.7256\n",
            "Fitting 3 folds for each of 16 candidates, totalling 48 fits\n"
          ]
        },
        {
          "output_type": "error",
          "ename": "KeyboardInterrupt",
          "evalue": "",
          "traceback": [
            "\u001b[0;31m---------------------------------------------------------------------------\u001b[0m",
            "\u001b[0;31mKeyboardInterrupt\u001b[0m                         Traceback (most recent call last)",
            "\u001b[0;32m<ipython-input-7-7eba54e73d18>\u001b[0m in \u001b[0;36m<cell line: 0>\u001b[0;34m()\u001b[0m\n\u001b[1;32m     66\u001b[0m \u001b[0;34m\u001b[0m\u001b[0m\n\u001b[1;32m     67\u001b[0m \u001b[0;31m# Fit grid search to training data\u001b[0m\u001b[0;34m\u001b[0m\u001b[0;34m\u001b[0m\u001b[0m\n\u001b[0;32m---> 68\u001b[0;31m \u001b[0msvm_grid_search\u001b[0m\u001b[0;34m.\u001b[0m\u001b[0mfit\u001b[0m\u001b[0;34m(\u001b[0m\u001b[0mX_train_tfidf\u001b[0m\u001b[0;34m,\u001b[0m \u001b[0my_train\u001b[0m\u001b[0;34m)\u001b[0m\u001b[0;34m\u001b[0m\u001b[0;34m\u001b[0m\u001b[0m\n\u001b[0m\u001b[1;32m     69\u001b[0m \u001b[0;34m\u001b[0m\u001b[0m\n\u001b[1;32m     70\u001b[0m \u001b[0;31m# Best parameters and model\u001b[0m\u001b[0;34m\u001b[0m\u001b[0;34m\u001b[0m\u001b[0m\n",
            "\u001b[0;32m/usr/local/lib/python3.11/dist-packages/sklearn/base.py\u001b[0m in \u001b[0;36mwrapper\u001b[0;34m(estimator, *args, **kwargs)\u001b[0m\n\u001b[1;32m   1387\u001b[0m                 )\n\u001b[1;32m   1388\u001b[0m             ):\n\u001b[0;32m-> 1389\u001b[0;31m                 \u001b[0;32mreturn\u001b[0m \u001b[0mfit_method\u001b[0m\u001b[0;34m(\u001b[0m\u001b[0mestimator\u001b[0m\u001b[0;34m,\u001b[0m \u001b[0;34m*\u001b[0m\u001b[0margs\u001b[0m\u001b[0;34m,\u001b[0m \u001b[0;34m**\u001b[0m\u001b[0mkwargs\u001b[0m\u001b[0;34m)\u001b[0m\u001b[0;34m\u001b[0m\u001b[0;34m\u001b[0m\u001b[0m\n\u001b[0m\u001b[1;32m   1390\u001b[0m \u001b[0;34m\u001b[0m\u001b[0m\n\u001b[1;32m   1391\u001b[0m         \u001b[0;32mreturn\u001b[0m \u001b[0mwrapper\u001b[0m\u001b[0;34m\u001b[0m\u001b[0;34m\u001b[0m\u001b[0m\n",
            "\u001b[0;32m/usr/local/lib/python3.11/dist-packages/sklearn/model_selection/_search.py\u001b[0m in \u001b[0;36mfit\u001b[0;34m(self, X, y, **params)\u001b[0m\n\u001b[1;32m   1022\u001b[0m                 \u001b[0;32mreturn\u001b[0m \u001b[0mresults\u001b[0m\u001b[0;34m\u001b[0m\u001b[0;34m\u001b[0m\u001b[0m\n\u001b[1;32m   1023\u001b[0m \u001b[0;34m\u001b[0m\u001b[0m\n\u001b[0;32m-> 1024\u001b[0;31m             \u001b[0mself\u001b[0m\u001b[0;34m.\u001b[0m\u001b[0m_run_search\u001b[0m\u001b[0;34m(\u001b[0m\u001b[0mevaluate_candidates\u001b[0m\u001b[0;34m)\u001b[0m\u001b[0;34m\u001b[0m\u001b[0;34m\u001b[0m\u001b[0m\n\u001b[0m\u001b[1;32m   1025\u001b[0m \u001b[0;34m\u001b[0m\u001b[0m\n\u001b[1;32m   1026\u001b[0m             \u001b[0;31m# multimetric is determined here because in the case of a callable\u001b[0m\u001b[0;34m\u001b[0m\u001b[0;34m\u001b[0m\u001b[0m\n",
            "\u001b[0;32m/usr/local/lib/python3.11/dist-packages/sklearn/model_selection/_search.py\u001b[0m in \u001b[0;36m_run_search\u001b[0;34m(self, evaluate_candidates)\u001b[0m\n\u001b[1;32m   1569\u001b[0m     \u001b[0;32mdef\u001b[0m \u001b[0m_run_search\u001b[0m\u001b[0;34m(\u001b[0m\u001b[0mself\u001b[0m\u001b[0;34m,\u001b[0m \u001b[0mevaluate_candidates\u001b[0m\u001b[0;34m)\u001b[0m\u001b[0;34m:\u001b[0m\u001b[0;34m\u001b[0m\u001b[0;34m\u001b[0m\u001b[0m\n\u001b[1;32m   1570\u001b[0m         \u001b[0;34m\"\"\"Search all candidates in param_grid\"\"\"\u001b[0m\u001b[0;34m\u001b[0m\u001b[0;34m\u001b[0m\u001b[0m\n\u001b[0;32m-> 1571\u001b[0;31m         \u001b[0mevaluate_candidates\u001b[0m\u001b[0;34m(\u001b[0m\u001b[0mParameterGrid\u001b[0m\u001b[0;34m(\u001b[0m\u001b[0mself\u001b[0m\u001b[0;34m.\u001b[0m\u001b[0mparam_grid\u001b[0m\u001b[0;34m)\u001b[0m\u001b[0;34m)\u001b[0m\u001b[0;34m\u001b[0m\u001b[0;34m\u001b[0m\u001b[0m\n\u001b[0m\u001b[1;32m   1572\u001b[0m \u001b[0;34m\u001b[0m\u001b[0m\n\u001b[1;32m   1573\u001b[0m \u001b[0;34m\u001b[0m\u001b[0m\n",
            "\u001b[0;32m/usr/local/lib/python3.11/dist-packages/sklearn/model_selection/_search.py\u001b[0m in \u001b[0;36mevaluate_candidates\u001b[0;34m(candidate_params, cv, more_results)\u001b[0m\n\u001b[1;32m    968\u001b[0m                     )\n\u001b[1;32m    969\u001b[0m \u001b[0;34m\u001b[0m\u001b[0m\n\u001b[0;32m--> 970\u001b[0;31m                 out = parallel(\n\u001b[0m\u001b[1;32m    971\u001b[0m                     delayed(_fit_and_score)(\n\u001b[1;32m    972\u001b[0m                         \u001b[0mclone\u001b[0m\u001b[0;34m(\u001b[0m\u001b[0mbase_estimator\u001b[0m\u001b[0;34m)\u001b[0m\u001b[0;34m,\u001b[0m\u001b[0;34m\u001b[0m\u001b[0;34m\u001b[0m\u001b[0m\n",
            "\u001b[0;32m/usr/local/lib/python3.11/dist-packages/sklearn/utils/parallel.py\u001b[0m in \u001b[0;36m__call__\u001b[0;34m(self, iterable)\u001b[0m\n\u001b[1;32m     75\u001b[0m             \u001b[0;32mfor\u001b[0m \u001b[0mdelayed_func\u001b[0m\u001b[0;34m,\u001b[0m \u001b[0margs\u001b[0m\u001b[0;34m,\u001b[0m \u001b[0mkwargs\u001b[0m \u001b[0;32min\u001b[0m \u001b[0miterable\u001b[0m\u001b[0;34m\u001b[0m\u001b[0;34m\u001b[0m\u001b[0m\n\u001b[1;32m     76\u001b[0m         )\n\u001b[0;32m---> 77\u001b[0;31m         \u001b[0;32mreturn\u001b[0m \u001b[0msuper\u001b[0m\u001b[0;34m(\u001b[0m\u001b[0;34m)\u001b[0m\u001b[0;34m.\u001b[0m\u001b[0m__call__\u001b[0m\u001b[0;34m(\u001b[0m\u001b[0miterable_with_config\u001b[0m\u001b[0;34m)\u001b[0m\u001b[0;34m\u001b[0m\u001b[0;34m\u001b[0m\u001b[0m\n\u001b[0m\u001b[1;32m     78\u001b[0m \u001b[0;34m\u001b[0m\u001b[0m\n\u001b[1;32m     79\u001b[0m \u001b[0;34m\u001b[0m\u001b[0m\n",
            "\u001b[0;32m/usr/local/lib/python3.11/dist-packages/joblib/parallel.py\u001b[0m in \u001b[0;36m__call__\u001b[0;34m(self, iterable)\u001b[0m\n\u001b[1;32m   2005\u001b[0m         \u001b[0mnext\u001b[0m\u001b[0;34m(\u001b[0m\u001b[0moutput\u001b[0m\u001b[0;34m)\u001b[0m\u001b[0;34m\u001b[0m\u001b[0;34m\u001b[0m\u001b[0m\n\u001b[1;32m   2006\u001b[0m \u001b[0;34m\u001b[0m\u001b[0m\n\u001b[0;32m-> 2007\u001b[0;31m         \u001b[0;32mreturn\u001b[0m \u001b[0moutput\u001b[0m \u001b[0;32mif\u001b[0m \u001b[0mself\u001b[0m\u001b[0;34m.\u001b[0m\u001b[0mreturn_generator\u001b[0m \u001b[0;32melse\u001b[0m \u001b[0mlist\u001b[0m\u001b[0;34m(\u001b[0m\u001b[0moutput\u001b[0m\u001b[0;34m)\u001b[0m\u001b[0;34m\u001b[0m\u001b[0;34m\u001b[0m\u001b[0m\n\u001b[0m\u001b[1;32m   2008\u001b[0m \u001b[0;34m\u001b[0m\u001b[0m\n\u001b[1;32m   2009\u001b[0m     \u001b[0;32mdef\u001b[0m \u001b[0m__repr__\u001b[0m\u001b[0;34m(\u001b[0m\u001b[0mself\u001b[0m\u001b[0;34m)\u001b[0m\u001b[0;34m:\u001b[0m\u001b[0;34m\u001b[0m\u001b[0;34m\u001b[0m\u001b[0m\n",
            "\u001b[0;32m/usr/local/lib/python3.11/dist-packages/joblib/parallel.py\u001b[0m in \u001b[0;36m_get_outputs\u001b[0;34m(self, iterator, pre_dispatch)\u001b[0m\n\u001b[1;32m   1648\u001b[0m \u001b[0;34m\u001b[0m\u001b[0m\n\u001b[1;32m   1649\u001b[0m             \u001b[0;32mwith\u001b[0m \u001b[0mself\u001b[0m\u001b[0;34m.\u001b[0m\u001b[0m_backend\u001b[0m\u001b[0;34m.\u001b[0m\u001b[0mretrieval_context\u001b[0m\u001b[0;34m(\u001b[0m\u001b[0;34m)\u001b[0m\u001b[0;34m:\u001b[0m\u001b[0;34m\u001b[0m\u001b[0;34m\u001b[0m\u001b[0m\n\u001b[0;32m-> 1650\u001b[0;31m                 \u001b[0;32myield\u001b[0m \u001b[0;32mfrom\u001b[0m \u001b[0mself\u001b[0m\u001b[0;34m.\u001b[0m\u001b[0m_retrieve\u001b[0m\u001b[0;34m(\u001b[0m\u001b[0;34m)\u001b[0m\u001b[0;34m\u001b[0m\u001b[0;34m\u001b[0m\u001b[0m\n\u001b[0m\u001b[1;32m   1651\u001b[0m \u001b[0;34m\u001b[0m\u001b[0m\n\u001b[1;32m   1652\u001b[0m         \u001b[0;32mexcept\u001b[0m \u001b[0mGeneratorExit\u001b[0m\u001b[0;34m:\u001b[0m\u001b[0;34m\u001b[0m\u001b[0;34m\u001b[0m\u001b[0m\n",
            "\u001b[0;32m/usr/local/lib/python3.11/dist-packages/joblib/parallel.py\u001b[0m in \u001b[0;36m_retrieve\u001b[0;34m(self)\u001b[0m\n\u001b[1;32m   1760\u001b[0m                 (self._jobs[0].get_status(\n\u001b[1;32m   1761\u001b[0m                     timeout=self.timeout) == TASK_PENDING)):\n\u001b[0;32m-> 1762\u001b[0;31m                 \u001b[0mtime\u001b[0m\u001b[0;34m.\u001b[0m\u001b[0msleep\u001b[0m\u001b[0;34m(\u001b[0m\u001b[0;36m0.01\u001b[0m\u001b[0;34m)\u001b[0m\u001b[0;34m\u001b[0m\u001b[0;34m\u001b[0m\u001b[0m\n\u001b[0m\u001b[1;32m   1763\u001b[0m                 \u001b[0;32mcontinue\u001b[0m\u001b[0;34m\u001b[0m\u001b[0;34m\u001b[0m\u001b[0m\n\u001b[1;32m   1764\u001b[0m \u001b[0;34m\u001b[0m\u001b[0m\n",
            "\u001b[0;31mKeyboardInterrupt\u001b[0m: "
          ]
        }
      ]
    },
    {
      "cell_type": "markdown",
      "source": [
        "2) SVM"
      ],
      "metadata": {
        "id": "EpiSicYDpqMR"
      }
    },
    {
      "cell_type": "code",
      "source": [
        "# Split into train+validation and test sets first (80% train_val, 20% test)\n",
        "X_train_val, X_test, y_train_val, y_test = train_test_split(\n",
        "    X, y, test_size=0.2, random_state=42, stratify=y\n",
        ")\n",
        "\n",
        "# Then split train+validation into train and validation sets (80/20 split of train_val)\n",
        "X_train, X_val, y_train, y_val = train_test_split(\n",
        "    X_train_val, y_train_val, test_size=0.25, random_state=42, stratify=y_train_val\n",
        ")  # Final: 60% train, 20% val, 20% test\n",
        "\n",
        "# TF-IDF Vectorization\n",
        "vectorizer = TfidfVectorizer(max_features=5000)\n",
        "X_train_tfidf = vectorizer.fit_transform(X_train)\n",
        "X_val_tfidf = vectorizer.transform(X_val)\n",
        "X_test_tfidf = vectorizer.transform(X_test)\n",
        "\n",
        "# Linear SVM Model\n",
        "svm_model = LinearSVC(max_iter=10000, random_state=42)  # Increased max_iter for stability\n",
        "svm_model.fit(X_train_tfidf, y_train)\n",
        "\n",
        "# Predictions\n",
        "y_train_pred = svm_model.predict(X_train_tfidf)\n",
        "y_val_pred = svm_model.predict(X_val_tfidf)\n",
        "y_test_pred = svm_model.predict(X_test_tfidf)\n",
        "\n",
        "# Accuracy calculations\n",
        "train_acc = accuracy_score(y_train, y_train_pred)\n",
        "val_acc = accuracy_score(y_val, y_val_pred)\n",
        "test_acc = accuracy_score(y_test, y_test_pred)\n",
        "\n",
        "# Output results\n",
        "print(f\"SVM Train Accuracy: {train_acc:.4f}\")\n",
        "print(f\"SVM Validation Accuracy: {val_acc:.4f}\")\n",
        "print(f\"SVM Test Accuracy: {test_acc:.4f}\")\n",
        "\n",
        "# Define parameter grid\n",
        "svm_param_grid = {\n",
        "    'C': [0.01, 0.1, 1, 10],\n",
        "    'loss': ['hinge', 'squared_hinge'],\n",
        "    'max_iter': [20000, 30000]\n",
        "}\n",
        "\n",
        "# Set up GridSearchCV\n",
        "svm_grid_search = GridSearchCV(\n",
        "    LinearSVC(random_state=42),\n",
        "    svm_param_grid,\n",
        "    cv=3,\n",
        "    scoring='accuracy',\n",
        "    verbose=1,\n",
        "    n_jobs=-1\n",
        ")\n",
        "\n",
        "# Fit grid search to training data\n",
        "svm_grid_search.fit(X_train_tfidf, y_train)\n",
        "\n",
        "# Best parameters and model\n",
        "print(\"Best SVM Hyperparameters:\", svm_grid_search.best_params_)\n",
        "best_svm_model = svm_grid_search.best_estimator_\n",
        "\n",
        "# Predictions using the tuned model\n",
        "y_train_pred_tuned = best_svm_model.predict(X_train_tfidf)\n",
        "y_val_pred_tuned = best_svm_model.predict(X_val_tfidf)\n",
        "y_test_pred_tuned = best_svm_model.predict(X_test_tfidf)\n",
        "\n",
        "# Accuracy calculations for tuned model\n",
        "train_acc_tuned = accuracy_score(y_train, y_train_pred_tuned)\n",
        "val_acc_tuned = accuracy_score(y_val, y_val_pred_tuned)\n",
        "test_acc_tuned = accuracy_score(y_test, y_test_pred_tuned)\n",
        "\n",
        "# Output tuned model results\n",
        "print(f\"TUNED SVM Train Accuracy: {train_acc_tuned:.4f}\")\n",
        "print(f\"TUNED SVM Validation Accuracy: {val_acc_tuned:.4f}\")\n",
        "print(f\"TUNED SVM Test Accuracy: {test_acc_tuned:.4f}\")"
      ],
      "metadata": {
        "id": "yxRb4lNYpqZp",
        "colab": {
          "base_uri": "https://localhost:8080/",
          "height": 366
        },
        "outputId": "2f60208e-2310-4ff7-f9e2-dc7ddd427a6c"
      },
      "execution_count": null,
      "outputs": [
        {
          "output_type": "error",
          "ename": "KeyboardInterrupt",
          "evalue": "",
          "traceback": [
            "\u001b[0;31m---------------------------------------------------------------------------\u001b[0m",
            "\u001b[0;31mKeyboardInterrupt\u001b[0m                         Traceback (most recent call last)",
            "\u001b[0;32m<ipython-input-6-7eba54e73d18>\u001b[0m in \u001b[0;36m<cell line: 0>\u001b[0;34m()\u001b[0m\n\u001b[1;32m     27\u001b[0m \u001b[0mX_train_tfidf\u001b[0m \u001b[0;34m=\u001b[0m \u001b[0mvectorizer\u001b[0m\u001b[0;34m.\u001b[0m\u001b[0mfit_transform\u001b[0m\u001b[0;34m(\u001b[0m\u001b[0mX_train\u001b[0m\u001b[0;34m)\u001b[0m\u001b[0;34m\u001b[0m\u001b[0;34m\u001b[0m\u001b[0m\n\u001b[1;32m     28\u001b[0m \u001b[0mX_val_tfidf\u001b[0m \u001b[0;34m=\u001b[0m \u001b[0mvectorizer\u001b[0m\u001b[0;34m.\u001b[0m\u001b[0mtransform\u001b[0m\u001b[0;34m(\u001b[0m\u001b[0mX_val\u001b[0m\u001b[0;34m)\u001b[0m\u001b[0;34m\u001b[0m\u001b[0;34m\u001b[0m\u001b[0m\n\u001b[0;32m---> 29\u001b[0;31m \u001b[0mX_test_tfidf\u001b[0m \u001b[0;34m=\u001b[0m \u001b[0mvectorizer\u001b[0m\u001b[0;34m.\u001b[0m\u001b[0mtransform\u001b[0m\u001b[0;34m(\u001b[0m\u001b[0mX_test\u001b[0m\u001b[0;34m)\u001b[0m\u001b[0;34m\u001b[0m\u001b[0;34m\u001b[0m\u001b[0m\n\u001b[0m\u001b[1;32m     30\u001b[0m \u001b[0;34m\u001b[0m\u001b[0m\n\u001b[1;32m     31\u001b[0m \u001b[0;31m# Linear SVM Model\u001b[0m\u001b[0;34m\u001b[0m\u001b[0;34m\u001b[0m\u001b[0m\n",
            "\u001b[0;32m/usr/local/lib/python3.11/dist-packages/sklearn/feature_extraction/text.py\u001b[0m in \u001b[0;36mtransform\u001b[0;34m(self, raw_documents)\u001b[0m\n\u001b[1;32m   2126\u001b[0m         \u001b[0mcheck_is_fitted\u001b[0m\u001b[0;34m(\u001b[0m\u001b[0mself\u001b[0m\u001b[0;34m,\u001b[0m \u001b[0mmsg\u001b[0m\u001b[0;34m=\u001b[0m\u001b[0;34m\"The TF-IDF vectorizer is not fitted\"\u001b[0m\u001b[0;34m)\u001b[0m\u001b[0;34m\u001b[0m\u001b[0;34m\u001b[0m\u001b[0m\n\u001b[1;32m   2127\u001b[0m \u001b[0;34m\u001b[0m\u001b[0m\n\u001b[0;32m-> 2128\u001b[0;31m         \u001b[0mX\u001b[0m \u001b[0;34m=\u001b[0m \u001b[0msuper\u001b[0m\u001b[0;34m(\u001b[0m\u001b[0;34m)\u001b[0m\u001b[0;34m.\u001b[0m\u001b[0mtransform\u001b[0m\u001b[0;34m(\u001b[0m\u001b[0mraw_documents\u001b[0m\u001b[0;34m)\u001b[0m\u001b[0;34m\u001b[0m\u001b[0;34m\u001b[0m\u001b[0m\n\u001b[0m\u001b[1;32m   2129\u001b[0m         \u001b[0;32mreturn\u001b[0m \u001b[0mself\u001b[0m\u001b[0;34m.\u001b[0m\u001b[0m_tfidf\u001b[0m\u001b[0;34m.\u001b[0m\u001b[0mtransform\u001b[0m\u001b[0;34m(\u001b[0m\u001b[0mX\u001b[0m\u001b[0;34m,\u001b[0m \u001b[0mcopy\u001b[0m\u001b[0;34m=\u001b[0m\u001b[0;32mFalse\u001b[0m\u001b[0;34m)\u001b[0m\u001b[0;34m\u001b[0m\u001b[0;34m\u001b[0m\u001b[0m\n\u001b[1;32m   2130\u001b[0m \u001b[0;34m\u001b[0m\u001b[0m\n",
            "\u001b[0;32m/usr/local/lib/python3.11/dist-packages/sklearn/feature_extraction/text.py\u001b[0m in \u001b[0;36mtransform\u001b[0;34m(self, raw_documents)\u001b[0m\n\u001b[1;32m   1419\u001b[0m \u001b[0;34m\u001b[0m\u001b[0m\n\u001b[1;32m   1420\u001b[0m         \u001b[0;31m# use the same matrix-building strategy as fit_transform\u001b[0m\u001b[0;34m\u001b[0m\u001b[0;34m\u001b[0m\u001b[0m\n\u001b[0;32m-> 1421\u001b[0;31m         \u001b[0m_\u001b[0m\u001b[0;34m,\u001b[0m \u001b[0mX\u001b[0m \u001b[0;34m=\u001b[0m \u001b[0mself\u001b[0m\u001b[0;34m.\u001b[0m\u001b[0m_count_vocab\u001b[0m\u001b[0;34m(\u001b[0m\u001b[0mraw_documents\u001b[0m\u001b[0;34m,\u001b[0m \u001b[0mfixed_vocab\u001b[0m\u001b[0;34m=\u001b[0m\u001b[0;32mTrue\u001b[0m\u001b[0;34m)\u001b[0m\u001b[0;34m\u001b[0m\u001b[0;34m\u001b[0m\u001b[0m\n\u001b[0m\u001b[1;32m   1422\u001b[0m         \u001b[0;32mif\u001b[0m \u001b[0mself\u001b[0m\u001b[0;34m.\u001b[0m\u001b[0mbinary\u001b[0m\u001b[0;34m:\u001b[0m\u001b[0;34m\u001b[0m\u001b[0;34m\u001b[0m\u001b[0m\n\u001b[1;32m   1423\u001b[0m             \u001b[0mX\u001b[0m\u001b[0;34m.\u001b[0m\u001b[0mdata\u001b[0m\u001b[0;34m.\u001b[0m\u001b[0mfill\u001b[0m\u001b[0;34m(\u001b[0m\u001b[0;36m1\u001b[0m\u001b[0;34m)\u001b[0m\u001b[0;34m\u001b[0m\u001b[0;34m\u001b[0m\u001b[0m\n",
            "\u001b[0;32m/usr/local/lib/python3.11/dist-packages/sklearn/feature_extraction/text.py\u001b[0m in \u001b[0;36m_count_vocab\u001b[0;34m(self, raw_documents, fixed_vocab)\u001b[0m\n\u001b[1;32m   1306\u001b[0m             \u001b[0mdtype\u001b[0m\u001b[0;34m=\u001b[0m\u001b[0mself\u001b[0m\u001b[0;34m.\u001b[0m\u001b[0mdtype\u001b[0m\u001b[0;34m,\u001b[0m\u001b[0;34m\u001b[0m\u001b[0;34m\u001b[0m\u001b[0m\n\u001b[1;32m   1307\u001b[0m         )\n\u001b[0;32m-> 1308\u001b[0;31m         \u001b[0mX\u001b[0m\u001b[0;34m.\u001b[0m\u001b[0msort_indices\u001b[0m\u001b[0;34m(\u001b[0m\u001b[0;34m)\u001b[0m\u001b[0;34m\u001b[0m\u001b[0;34m\u001b[0m\u001b[0m\n\u001b[0m\u001b[1;32m   1309\u001b[0m         \u001b[0;32mreturn\u001b[0m \u001b[0mvocabulary\u001b[0m\u001b[0;34m,\u001b[0m \u001b[0mX\u001b[0m\u001b[0;34m\u001b[0m\u001b[0;34m\u001b[0m\u001b[0m\n\u001b[1;32m   1310\u001b[0m \u001b[0;34m\u001b[0m\u001b[0m\n",
            "\u001b[0;32m/usr/local/lib/python3.11/dist-packages/scipy/sparse/_compressed.py\u001b[0m in \u001b[0;36msort_indices\u001b[0;34m(self)\u001b[0m\n\u001b[1;32m   1216\u001b[0m \u001b[0;34m\u001b[0m\u001b[0m\n\u001b[1;32m   1217\u001b[0m         \u001b[0;32mif\u001b[0m \u001b[0;32mnot\u001b[0m \u001b[0mself\u001b[0m\u001b[0;34m.\u001b[0m\u001b[0mhas_sorted_indices\u001b[0m\u001b[0;34m:\u001b[0m\u001b[0;34m\u001b[0m\u001b[0;34m\u001b[0m\u001b[0m\n\u001b[0;32m-> 1218\u001b[0;31m             _sparsetools.csr_sort_indices(len(self.indptr) - 1, self.indptr,\n\u001b[0m\u001b[1;32m   1219\u001b[0m                                           self.indices, self.data)\n\u001b[1;32m   1220\u001b[0m             \u001b[0mself\u001b[0m\u001b[0;34m.\u001b[0m\u001b[0mhas_sorted_indices\u001b[0m \u001b[0;34m=\u001b[0m \u001b[0;32mTrue\u001b[0m\u001b[0;34m\u001b[0m\u001b[0;34m\u001b[0m\u001b[0m\n",
            "\u001b[0;31mKeyboardInterrupt\u001b[0m: "
          ]
        }
      ]
    },
    {
      "cell_type": "markdown",
      "source": [
        "3) Logistic Regression"
      ],
      "metadata": {
        "id": "incM8HpcpBQH"
      }
    },
    {
      "cell_type": "code",
      "source": [
        "# Split into train+validation and test sets first (80% train_val, 20% test)\n",
        "X_train_val, X_test, y_train_val, y_test = train_test_split(\n",
        "    X, y, test_size=0.2, random_state=42, stratify=y\n",
        ")\n",
        "\n",
        "# Then split train+validation into train and validation sets (80/20 split of train_val)\n",
        "X_train, X_val, y_train, y_val = train_test_split(\n",
        "    X_train_val, y_train_val, test_size=0.25, random_state=42, stratify=y_train_val\n",
        ")  # 0.25 x 0.8 = 0.2, so final: 60% train, 20% val, 20% test\n",
        "\n",
        "# TF-IDF Vectorization\n",
        "vectorizer = TfidfVectorizer(max_features=5000)\n",
        "X_train_tfidf = vectorizer.fit_transform(X_train)\n",
        "X_val_tfidf = vectorizer.transform(X_val)\n",
        "X_test_tfidf = vectorizer.transform(X_test)\n",
        "\n",
        "# Logistic Regression Model\n",
        "model = LogisticRegression(max_iter=1000)\n",
        "model.fit(X_train_tfidf, y_train)\n",
        "\n",
        "# Predictions\n",
        "y_train_pred = model.predict(X_train_tfidf)\n",
        "y_val_pred = model.predict(X_val_tfidf)\n",
        "y_test_pred = model.predict(X_test_tfidf)\n",
        "\n",
        "# Accuracy calculations\n",
        "train_acc = accuracy_score(y_train, y_train_pred)\n",
        "val_acc = accuracy_score(y_val, y_val_pred)\n",
        "test_acc = accuracy_score(y_test, y_test_pred)\n",
        "\n",
        "# Output results\n",
        "print(f\"Train Accuracy: {train_acc:.4f}\")\n",
        "print(f\"Validation Accuracy: {val_acc:.4f}\")\n",
        "print(f\"Test Accuracy: {test_acc:.4f}\")\n",
        "\n",
        "# Hyperparameter grid\n",
        "param_grid = {\n",
        "    'C': [0.01, 0.1, 1, 10],\n",
        "    'penalty': ['l2'],\n",
        "    'solver': ['lbfgs'],\n",
        "    'max_iter': [1000]\n",
        "}\n",
        "\n",
        "# Grid search setup\n",
        "grid_search = GridSearchCV(\n",
        "    LogisticRegression(),\n",
        "    param_grid,\n",
        "    cv=3,\n",
        "    scoring='accuracy',\n",
        "    verbose=1,\n",
        "    n_jobs=-1\n",
        ")\n",
        "\n",
        "# Train grid search on training data\n",
        "grid_search.fit(X_train_tfidf, y_train)\n",
        "\n",
        "# Best parameters and model\n",
        "print(\"Best Logistic Regression Parameters:\", grid_search.best_params_)\n",
        "best_lr_model = grid_search.best_estimator_\n",
        "\n",
        "# Predictions using tuned model\n",
        "y_train_pred_tuned = best_lr_model.predict(X_train_tfidf)\n",
        "y_val_pred_tuned = best_lr_model.predict(X_val_tfidf)\n",
        "y_test_pred_tuned = best_lr_model.predict(X_test_tfidf)\n",
        "\n",
        "# Accuracy calculations for tuned model\n",
        "train_acc_tuned = accuracy_score(y_train, y_train_pred_tuned)\n",
        "val_acc_tuned = accuracy_score(y_val, y_val_pred_tuned)\n",
        "test_acc_tuned = accuracy_score(y_test, y_test_pred_tuned)\n",
        "\n",
        "# Output tuned model results\n",
        "print(f\"TUNED Logistic Regression Train Accuracy: {train_acc_tuned:.4f}\")\n",
        "print(f\"TUNED Logistic Regression Validation Accuracy: {val_acc_tuned:.4f}\")\n",
        "print(f\"TUNED Logistic Regression Test Accuracy: {test_acc_tuned:.4f}\")"
      ],
      "metadata": {
        "id": "LFjGxRnvo48l"
      },
      "execution_count": null,
      "outputs": []
    },
    {
      "cell_type": "markdown",
      "source": [
        "4) Naive Bayes"
      ],
      "metadata": {
        "id": "nko6spbOqD0h"
      }
    },
    {
      "cell_type": "code",
      "source": [
        "# Split into train+validation and test sets first (80% train_val, 20% test)\n",
        "X_train_val, X_test, y_train_val, y_test = train_test_split(\n",
        "    X, y, test_size=0.2, random_state=42, stratify=y\n",
        ")\n",
        "\n",
        "# Then split train+validation into train and validation sets (80/20 split of train_val)\n",
        "X_train, X_val, y_train, y_val = train_test_split(\n",
        "    X_train_val, y_train_val, test_size=0.25, random_state=42, stratify=y_train_val\n",
        ")  # Final: 60% train, 20% val, 20% test\n",
        "\n",
        "# TF-IDF Vectorization\n",
        "vectorizer = TfidfVectorizer(max_features=5000)\n",
        "X_train_tfidf = vectorizer.fit_transform(X_train)\n",
        "X_val_tfidf = vectorizer.transform(X_val)\n",
        "X_test_tfidf = vectorizer.transform(X_test)\n",
        "\n",
        "# Naive Bayes Model\n",
        "nb_model = MultinomialNB()\n",
        "nb_model.fit(X_train_tfidf, y_train)\n",
        "\n",
        "# Predictions\n",
        "y_train_pred = nb_model.predict(X_train_tfidf)\n",
        "y_val_pred = nb_model.predict(X_val_tfidf)\n",
        "y_test_pred = nb_model.predict(X_test_tfidf)\n",
        "\n",
        "# Accuracy calculations\n",
        "train_acc = accuracy_score(y_train, y_train_pred)\n",
        "val_acc = accuracy_score(y_val, y_val_pred)\n",
        "test_acc = accuracy_score(y_test, y_test_pred)\n",
        "\n",
        "# Output results\n",
        "print(f\"Naive Bayes Train Accuracy: {train_acc:.4f}\")\n",
        "print(f\"Naive Bayes Validation Accuracy: {val_acc:.4f}\")\n",
        "print(f\"Naive Bayes Test Accuracy: {test_acc:.4f}\")\n",
        "\n",
        "# Parameter grid for Naive Bayes\n",
        "nb_param_grid = {\n",
        "    'alpha': [0.01, 0.1, 0.5, 1.0, 2.0]  # Laplace smoothing\n",
        "}\n",
        "\n",
        "# Set up GridSearchCV\n",
        "nb_grid_search = GridSearchCV(\n",
        "    MultinomialNB(),\n",
        "    nb_param_grid,\n",
        "    cv=3,\n",
        "    scoring='accuracy',\n",
        "    verbose=1,\n",
        "    n_jobs=-1\n",
        ")\n",
        "\n",
        "# Fit grid search on training data\n",
        "nb_grid_search.fit(X_train_tfidf, y_train)\n",
        "\n",
        "# Best parameters and model\n",
        "print(\"Best Naive Bayes Hyperparameters:\", nb_grid_search.best_params_)\n",
        "best_nb_model = nb_grid_search.best_estimator_\n",
        "\n",
        "# Predictions using tuned model\n",
        "y_train_pred_tuned = best_nb_model.predict(X_train_tfidf)\n",
        "y_val_pred_tuned = best_nb_model.predict(X_val_tfidf)\n",
        "y_test_pred_tuned = best_nb_model.predict(X_test_tfidf)\n",
        "\n",
        "# Accuracy calculations for tuned model\n",
        "train_acc_tuned = accuracy_score(y_train, y_train_pred_tuned)\n",
        "val_acc_tuned = accuracy_score(y_val, y_val_pred_tuned)\n",
        "test_acc_tuned = accuracy_score(y_test, y_test_pred_tuned)\n",
        "\n",
        "# Output tuned model results\n",
        "print(f\"TUNED Naive Bayes Train Accuracy: {train_acc_tuned:.4f}\")\n",
        "print(f\"TUNED Naive Bayes Validation Accuracy: {val_acc_tuned:.4f}\")\n",
        "print(f\"TUNED Naive Bayes Test Accuracy: {test_acc_tuned:.4f}\")"
      ],
      "metadata": {
        "id": "1eV8QfV4qD_l"
      },
      "execution_count": null,
      "outputs": []
    }
  ]
}